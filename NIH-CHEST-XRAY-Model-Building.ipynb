{
 "cells": [
  {
   "cell_type": "markdown",
   "metadata": {},
   "source": [
    "# CNN Model to classify a disease based on the chest x-ray"
   ]
  },
  {
   "cell_type": "code",
   "execution_count": 246,
   "metadata": {
    "ExecuteTime": {
     "end_time": "2020-04-22T21:12:33.804978Z",
     "start_time": "2020-04-22T21:12:28.821453Z"
    }
   },
   "outputs": [
    {
     "name": "stderr",
     "output_type": "stream",
     "text": [
      "Using TensorFlow backend.\n"
     ]
    }
   ],
   "source": [
    "#importing the necessary libraries\n",
    "import numpy as np\n",
    "from numpy import asarray\n",
    "from array import *\n",
    "\n",
    "import pandas as pd\n",
    "import os\n",
    "import matplotlib.pyplot as plt\n",
    "\n",
    "from itertools import chain\n",
    "from PIL import Image\n",
    "from keras.preprocessing.image import load_img\n",
    "from keras.preprocessing.image import img_to_array\n",
    "from keras.preprocessing.image import array_to_img\n",
    "\n",
    "%matplotlib inline"
   ]
  },
  {
   "cell_type": "code",
   "execution_count": 154,
   "metadata": {
    "ExecuteTime": {
     "end_time": "2020-04-22T19:00:56.090474Z",
     "start_time": "2020-04-22T19:00:56.078722Z"
    }
   },
   "outputs": [],
   "source": [
    "plt.rcParams[\"font.size\"] = 30\n",
    "plt.rcParams['figure.figsize'] = [12, 8]\n",
    "plt.rcParams['figure.titlesize'] = 20\n",
    "plt.rcParams[\"axes.titlesize\"] = 20\n",
    "plt.rcParams[\"axes.labelsize\"] = 20\n",
    "plt.rcParams[\"xtick.labelsize\"] = 20\n",
    "plt.rcParams[\"ytick.labelsize\"] = 20\n",
    "plt.rcParams[\"legend.fontsize\"] = 10"
   ]
  },
  {
   "cell_type": "code",
   "execution_count": 155,
   "metadata": {
    "ExecuteTime": {
     "end_time": "2020-04-22T19:00:56.769596Z",
     "start_time": "2020-04-22T19:00:56.509138Z"
    }
   },
   "outputs": [],
   "source": [
    "data_entry_file_name = \"Data_Entry_2017.csv\"\n",
    "#bbox_list_file_name = \"BBox_List_2017.csv\"\n",
    "data_entry_df  = pd.read_csv(data_entry_file_name)\n",
    "#bbox_df = pd.read_csv(bbox_list_file_name)"
   ]
  },
  {
   "cell_type": "code",
   "execution_count": 156,
   "metadata": {
    "ExecuteTime": {
     "end_time": "2020-04-22T19:00:57.148672Z",
     "start_time": "2020-04-22T19:00:57.094246Z"
    }
   },
   "outputs": [
    {
     "data": {
      "text/html": [
       "<div>\n",
       "<style scoped>\n",
       "    .dataframe tbody tr th:only-of-type {\n",
       "        vertical-align: middle;\n",
       "    }\n",
       "\n",
       "    .dataframe tbody tr th {\n",
       "        vertical-align: top;\n",
       "    }\n",
       "\n",
       "    .dataframe thead th {\n",
       "        text-align: right;\n",
       "    }\n",
       "</style>\n",
       "<table border=\"1\" class=\"dataframe\">\n",
       "  <thead>\n",
       "    <tr style=\"text-align: right;\">\n",
       "      <th></th>\n",
       "      <th>Image Index</th>\n",
       "      <th>Finding Labels</th>\n",
       "      <th>Follow-up #</th>\n",
       "      <th>Patient ID</th>\n",
       "      <th>Patient Age</th>\n",
       "      <th>Patient Gender</th>\n",
       "      <th>View Position</th>\n",
       "      <th>OriginalImage[Width</th>\n",
       "      <th>Height]</th>\n",
       "      <th>OriginalImagePixelSpacing[x</th>\n",
       "      <th>y]</th>\n",
       "    </tr>\n",
       "  </thead>\n",
       "  <tbody>\n",
       "    <tr>\n",
       "      <th>0</th>\n",
       "      <td>00000001_000.png</td>\n",
       "      <td>Cardiomegaly</td>\n",
       "      <td>0</td>\n",
       "      <td>1</td>\n",
       "      <td>58</td>\n",
       "      <td>M</td>\n",
       "      <td>PA</td>\n",
       "      <td>2682</td>\n",
       "      <td>2749</td>\n",
       "      <td>0.143</td>\n",
       "      <td>0.143</td>\n",
       "    </tr>\n",
       "    <tr>\n",
       "      <th>1</th>\n",
       "      <td>00000001_001.png</td>\n",
       "      <td>Cardiomegaly|Emphysema</td>\n",
       "      <td>1</td>\n",
       "      <td>1</td>\n",
       "      <td>58</td>\n",
       "      <td>M</td>\n",
       "      <td>PA</td>\n",
       "      <td>2894</td>\n",
       "      <td>2729</td>\n",
       "      <td>0.143</td>\n",
       "      <td>0.143</td>\n",
       "    </tr>\n",
       "    <tr>\n",
       "      <th>2</th>\n",
       "      <td>00000001_002.png</td>\n",
       "      <td>Cardiomegaly|Effusion</td>\n",
       "      <td>2</td>\n",
       "      <td>1</td>\n",
       "      <td>58</td>\n",
       "      <td>M</td>\n",
       "      <td>PA</td>\n",
       "      <td>2500</td>\n",
       "      <td>2048</td>\n",
       "      <td>0.168</td>\n",
       "      <td>0.168</td>\n",
       "    </tr>\n",
       "    <tr>\n",
       "      <th>3</th>\n",
       "      <td>00000002_000.png</td>\n",
       "      <td>No Finding</td>\n",
       "      <td>0</td>\n",
       "      <td>2</td>\n",
       "      <td>81</td>\n",
       "      <td>M</td>\n",
       "      <td>PA</td>\n",
       "      <td>2500</td>\n",
       "      <td>2048</td>\n",
       "      <td>0.171</td>\n",
       "      <td>0.171</td>\n",
       "    </tr>\n",
       "    <tr>\n",
       "      <th>4</th>\n",
       "      <td>00000003_000.png</td>\n",
       "      <td>Hernia</td>\n",
       "      <td>0</td>\n",
       "      <td>3</td>\n",
       "      <td>81</td>\n",
       "      <td>F</td>\n",
       "      <td>PA</td>\n",
       "      <td>2582</td>\n",
       "      <td>2991</td>\n",
       "      <td>0.143</td>\n",
       "      <td>0.143</td>\n",
       "    </tr>\n",
       "    <tr>\n",
       "      <th>...</th>\n",
       "      <td>...</td>\n",
       "      <td>...</td>\n",
       "      <td>...</td>\n",
       "      <td>...</td>\n",
       "      <td>...</td>\n",
       "      <td>...</td>\n",
       "      <td>...</td>\n",
       "      <td>...</td>\n",
       "      <td>...</td>\n",
       "      <td>...</td>\n",
       "      <td>...</td>\n",
       "    </tr>\n",
       "    <tr>\n",
       "      <th>112115</th>\n",
       "      <td>00030801_001.png</td>\n",
       "      <td>Mass|Pneumonia</td>\n",
       "      <td>1</td>\n",
       "      <td>30801</td>\n",
       "      <td>39</td>\n",
       "      <td>M</td>\n",
       "      <td>PA</td>\n",
       "      <td>2048</td>\n",
       "      <td>2500</td>\n",
       "      <td>0.168</td>\n",
       "      <td>0.168</td>\n",
       "    </tr>\n",
       "    <tr>\n",
       "      <th>112116</th>\n",
       "      <td>00030802_000.png</td>\n",
       "      <td>No Finding</td>\n",
       "      <td>0</td>\n",
       "      <td>30802</td>\n",
       "      <td>29</td>\n",
       "      <td>M</td>\n",
       "      <td>PA</td>\n",
       "      <td>2048</td>\n",
       "      <td>2500</td>\n",
       "      <td>0.168</td>\n",
       "      <td>0.168</td>\n",
       "    </tr>\n",
       "    <tr>\n",
       "      <th>112117</th>\n",
       "      <td>00030803_000.png</td>\n",
       "      <td>No Finding</td>\n",
       "      <td>0</td>\n",
       "      <td>30803</td>\n",
       "      <td>42</td>\n",
       "      <td>F</td>\n",
       "      <td>PA</td>\n",
       "      <td>2048</td>\n",
       "      <td>2500</td>\n",
       "      <td>0.168</td>\n",
       "      <td>0.168</td>\n",
       "    </tr>\n",
       "    <tr>\n",
       "      <th>112118</th>\n",
       "      <td>00030804_000.png</td>\n",
       "      <td>No Finding</td>\n",
       "      <td>0</td>\n",
       "      <td>30804</td>\n",
       "      <td>30</td>\n",
       "      <td>F</td>\n",
       "      <td>PA</td>\n",
       "      <td>2048</td>\n",
       "      <td>2500</td>\n",
       "      <td>0.168</td>\n",
       "      <td>0.168</td>\n",
       "    </tr>\n",
       "    <tr>\n",
       "      <th>112119</th>\n",
       "      <td>00030805_000.png</td>\n",
       "      <td>No Finding</td>\n",
       "      <td>0</td>\n",
       "      <td>30805</td>\n",
       "      <td>27</td>\n",
       "      <td>M</td>\n",
       "      <td>PA</td>\n",
       "      <td>2048</td>\n",
       "      <td>2500</td>\n",
       "      <td>0.171</td>\n",
       "      <td>0.171</td>\n",
       "    </tr>\n",
       "  </tbody>\n",
       "</table>\n",
       "<p>112120 rows × 11 columns</p>\n",
       "</div>"
      ],
      "text/plain": [
       "             Image Index          Finding Labels  Follow-up #  Patient ID  \\\n",
       "0       00000001_000.png            Cardiomegaly            0           1   \n",
       "1       00000001_001.png  Cardiomegaly|Emphysema            1           1   \n",
       "2       00000001_002.png   Cardiomegaly|Effusion            2           1   \n",
       "3       00000002_000.png              No Finding            0           2   \n",
       "4       00000003_000.png                  Hernia            0           3   \n",
       "...                  ...                     ...          ...         ...   \n",
       "112115  00030801_001.png          Mass|Pneumonia            1       30801   \n",
       "112116  00030802_000.png              No Finding            0       30802   \n",
       "112117  00030803_000.png              No Finding            0       30803   \n",
       "112118  00030804_000.png              No Finding            0       30804   \n",
       "112119  00030805_000.png              No Finding            0       30805   \n",
       "\n",
       "        Patient Age Patient Gender View Position  OriginalImage[Width  \\\n",
       "0                58              M            PA                 2682   \n",
       "1                58              M            PA                 2894   \n",
       "2                58              M            PA                 2500   \n",
       "3                81              M            PA                 2500   \n",
       "4                81              F            PA                 2582   \n",
       "...             ...            ...           ...                  ...   \n",
       "112115           39              M            PA                 2048   \n",
       "112116           29              M            PA                 2048   \n",
       "112117           42              F            PA                 2048   \n",
       "112118           30              F            PA                 2048   \n",
       "112119           27              M            PA                 2048   \n",
       "\n",
       "        Height]  OriginalImagePixelSpacing[x     y]  \n",
       "0          2749                        0.143  0.143  \n",
       "1          2729                        0.143  0.143  \n",
       "2          2048                        0.168  0.168  \n",
       "3          2048                        0.171  0.171  \n",
       "4          2991                        0.143  0.143  \n",
       "...         ...                          ...    ...  \n",
       "112115     2500                        0.168  0.168  \n",
       "112116     2500                        0.168  0.168  \n",
       "112117     2500                        0.168  0.168  \n",
       "112118     2500                        0.168  0.168  \n",
       "112119     2500                        0.171  0.171  \n",
       "\n",
       "[112120 rows x 11 columns]"
      ]
     },
     "execution_count": 156,
     "metadata": {},
     "output_type": "execute_result"
    }
   ],
   "source": [
    "data_entry_df"
   ]
  },
  {
   "cell_type": "code",
   "execution_count": 157,
   "metadata": {
    "ExecuteTime": {
     "end_time": "2020-04-22T19:00:57.926711Z",
     "start_time": "2020-04-22T19:00:57.923746Z"
    }
   },
   "outputs": [],
   "source": [
    "#let's rename the columns in our dataframe so that it's more compact \n",
    "#data_entry_df.rename(columns={\"OriginalImage[Width\": \"ImageWidth\", \"Height]\": \"ImageHeight\", \"OriginalImagePixelSpacing[x\": \"ImgPixelSpacingX\", \"y]\": \"ImgPixelSpacingY\"})"
   ]
  },
  {
   "cell_type": "code",
   "execution_count": 158,
   "metadata": {
    "ExecuteTime": {
     "end_time": "2020-04-22T19:00:58.598806Z",
     "start_time": "2020-04-22T19:00:58.579178Z"
    }
   },
   "outputs": [],
   "source": [
    "data_entry_set = set(data_entry_df['Finding Labels'])\n",
    "#data_entry_set"
   ]
  },
  {
   "cell_type": "markdown",
   "metadata": {},
   "source": [
    "It seems that there are a lot of multi-labeled data in our diagnosis. Later we will have to map it out in its separate label so that our model can use it."
   ]
  },
  {
   "cell_type": "code",
   "execution_count": 159,
   "metadata": {
    "ExecuteTime": {
     "end_time": "2020-04-22T19:00:59.480999Z",
     "start_time": "2020-04-22T19:00:59.451560Z"
    }
   },
   "outputs": [
    {
     "data": {
      "text/plain": [
       "No Finding                                                     60361\n",
       "Infiltration                                                    9547\n",
       "Atelectasis                                                     4215\n",
       "Effusion                                                        3955\n",
       "Nodule                                                          2705\n",
       "                                                               ...  \n",
       "Atelectasis|Cardiomegaly|Effusion|Fibrosis|Nodule                  1\n",
       "Consolidation|Infiltration|Nodule|Pneumonia                        1\n",
       "Consolidation|Mass|Nodule|Pneumonia                                1\n",
       "Consolidation|Emphysema|Infiltration|Nodule                        1\n",
       "Atelectasis|Effusion|Infiltration|Pneumothorax|Cardiomegaly        1\n",
       "Name: Finding Labels, Length: 836, dtype: int64"
      ]
     },
     "execution_count": 159,
     "metadata": {},
     "output_type": "execute_result"
    }
   ],
   "source": [
    "data_entry_df['Finding Labels'].value_counts()"
   ]
  },
  {
   "cell_type": "code",
   "execution_count": 160,
   "metadata": {
    "ExecuteTime": {
     "end_time": "2020-04-22T19:01:00.246397Z",
     "start_time": "2020-04-22T19:01:00.220881Z"
    }
   },
   "outputs": [
    {
     "data": {
      "text/html": [
       "<div>\n",
       "<style scoped>\n",
       "    .dataframe tbody tr th:only-of-type {\n",
       "        vertical-align: middle;\n",
       "    }\n",
       "\n",
       "    .dataframe tbody tr th {\n",
       "        vertical-align: top;\n",
       "    }\n",
       "\n",
       "    .dataframe thead th {\n",
       "        text-align: right;\n",
       "    }\n",
       "</style>\n",
       "<table border=\"1\" class=\"dataframe\">\n",
       "  <thead>\n",
       "    <tr style=\"text-align: right;\">\n",
       "      <th></th>\n",
       "      <th>Image Index</th>\n",
       "      <th>Finding Labels</th>\n",
       "      <th>Follow-up #</th>\n",
       "      <th>Patient ID</th>\n",
       "      <th>Patient Age</th>\n",
       "      <th>Patient Gender</th>\n",
       "      <th>View Position</th>\n",
       "      <th>OriginalImage[Width</th>\n",
       "      <th>Height]</th>\n",
       "      <th>OriginalImagePixelSpacing[x</th>\n",
       "      <th>y]</th>\n",
       "    </tr>\n",
       "  </thead>\n",
       "  <tbody>\n",
       "    <tr>\n",
       "      <th>230</th>\n",
       "      <td>00000049_000.png</td>\n",
       "      <td>Nodule</td>\n",
       "      <td>0</td>\n",
       "      <td>49</td>\n",
       "      <td>91</td>\n",
       "      <td>F</td>\n",
       "      <td>PA</td>\n",
       "      <td>2650</td>\n",
       "      <td>2465</td>\n",
       "      <td>0.143</td>\n",
       "      <td>0.143</td>\n",
       "    </tr>\n",
       "    <tr>\n",
       "      <th>581</th>\n",
       "      <td>00000143_005.png</td>\n",
       "      <td>No Finding</td>\n",
       "      <td>5</td>\n",
       "      <td>143</td>\n",
       "      <td>91</td>\n",
       "      <td>M</td>\n",
       "      <td>PA</td>\n",
       "      <td>2500</td>\n",
       "      <td>2048</td>\n",
       "      <td>0.168</td>\n",
       "      <td>0.168</td>\n",
       "    </tr>\n",
       "    <tr>\n",
       "      <th>585</th>\n",
       "      <td>00000143_009.png</td>\n",
       "      <td>Atelectasis</td>\n",
       "      <td>9</td>\n",
       "      <td>143</td>\n",
       "      <td>91</td>\n",
       "      <td>M</td>\n",
       "      <td>PA</td>\n",
       "      <td>2992</td>\n",
       "      <td>2991</td>\n",
       "      <td>0.143</td>\n",
       "      <td>0.143</td>\n",
       "    </tr>\n",
       "    <tr>\n",
       "      <th>587</th>\n",
       "      <td>00000143_011.png</td>\n",
       "      <td>Atelectasis</td>\n",
       "      <td>11</td>\n",
       "      <td>143</td>\n",
       "      <td>91</td>\n",
       "      <td>M</td>\n",
       "      <td>PA</td>\n",
       "      <td>2992</td>\n",
       "      <td>2991</td>\n",
       "      <td>0.143</td>\n",
       "      <td>0.143</td>\n",
       "    </tr>\n",
       "    <tr>\n",
       "      <th>3973</th>\n",
       "      <td>00001085_001.png</td>\n",
       "      <td>Fibrosis|Infiltration|Mass|Pleural_Thickening</td>\n",
       "      <td>1</td>\n",
       "      <td>1085</td>\n",
       "      <td>91</td>\n",
       "      <td>M</td>\n",
       "      <td>PA</td>\n",
       "      <td>2048</td>\n",
       "      <td>2500</td>\n",
       "      <td>0.168</td>\n",
       "      <td>0.168</td>\n",
       "    </tr>\n",
       "    <tr>\n",
       "      <th>17750</th>\n",
       "      <td>00004801_001.png</td>\n",
       "      <td>Nodule</td>\n",
       "      <td>1</td>\n",
       "      <td>4801</td>\n",
       "      <td>91</td>\n",
       "      <td>M</td>\n",
       "      <td>PA</td>\n",
       "      <td>2992</td>\n",
       "      <td>2991</td>\n",
       "      <td>0.143</td>\n",
       "      <td>0.143</td>\n",
       "    </tr>\n",
       "    <tr>\n",
       "      <th>20851</th>\n",
       "      <td>00005566_012.png</td>\n",
       "      <td>Mass|Pleural_Thickening</td>\n",
       "      <td>12</td>\n",
       "      <td>5566</td>\n",
       "      <td>91</td>\n",
       "      <td>M</td>\n",
       "      <td>PA</td>\n",
       "      <td>2992</td>\n",
       "      <td>2991</td>\n",
       "      <td>0.143</td>\n",
       "      <td>0.143</td>\n",
       "    </tr>\n",
       "    <tr>\n",
       "      <th>24615</th>\n",
       "      <td>00006473_000.png</td>\n",
       "      <td>No Finding</td>\n",
       "      <td>0</td>\n",
       "      <td>6473</td>\n",
       "      <td>91</td>\n",
       "      <td>F</td>\n",
       "      <td>PA</td>\n",
       "      <td>2048</td>\n",
       "      <td>2500</td>\n",
       "      <td>0.168</td>\n",
       "      <td>0.168</td>\n",
       "    </tr>\n",
       "    <tr>\n",
       "      <th>24616</th>\n",
       "      <td>00006473_001.png</td>\n",
       "      <td>No Finding</td>\n",
       "      <td>1</td>\n",
       "      <td>6473</td>\n",
       "      <td>91</td>\n",
       "      <td>F</td>\n",
       "      <td>PA</td>\n",
       "      <td>2048</td>\n",
       "      <td>2500</td>\n",
       "      <td>0.168</td>\n",
       "      <td>0.168</td>\n",
       "    </tr>\n",
       "    <tr>\n",
       "      <th>96724</th>\n",
       "      <td>00025496_000.png</td>\n",
       "      <td>Effusion|Pleural_Thickening</td>\n",
       "      <td>0</td>\n",
       "      <td>25496</td>\n",
       "      <td>91</td>\n",
       "      <td>M</td>\n",
       "      <td>PA</td>\n",
       "      <td>2992</td>\n",
       "      <td>2991</td>\n",
       "      <td>0.143</td>\n",
       "      <td>0.143</td>\n",
       "    </tr>\n",
       "    <tr>\n",
       "      <th>108421</th>\n",
       "      <td>00029391_000.png</td>\n",
       "      <td>Cardiomegaly</td>\n",
       "      <td>0</td>\n",
       "      <td>29391</td>\n",
       "      <td>91</td>\n",
       "      <td>F</td>\n",
       "      <td>PA</td>\n",
       "      <td>2544</td>\n",
       "      <td>3056</td>\n",
       "      <td>0.139</td>\n",
       "      <td>0.139</td>\n",
       "    </tr>\n",
       "  </tbody>\n",
       "</table>\n",
       "</div>"
      ],
      "text/plain": [
       "             Image Index                                 Finding Labels  \\\n",
       "230     00000049_000.png                                         Nodule   \n",
       "581     00000143_005.png                                     No Finding   \n",
       "585     00000143_009.png                                    Atelectasis   \n",
       "587     00000143_011.png                                    Atelectasis   \n",
       "3973    00001085_001.png  Fibrosis|Infiltration|Mass|Pleural_Thickening   \n",
       "17750   00004801_001.png                                         Nodule   \n",
       "20851   00005566_012.png                        Mass|Pleural_Thickening   \n",
       "24615   00006473_000.png                                     No Finding   \n",
       "24616   00006473_001.png                                     No Finding   \n",
       "96724   00025496_000.png                    Effusion|Pleural_Thickening   \n",
       "108421  00029391_000.png                                   Cardiomegaly   \n",
       "\n",
       "        Follow-up #  Patient ID  Patient Age Patient Gender View Position  \\\n",
       "230               0          49           91              F            PA   \n",
       "581               5         143           91              M            PA   \n",
       "585               9         143           91              M            PA   \n",
       "587              11         143           91              M            PA   \n",
       "3973              1        1085           91              M            PA   \n",
       "17750             1        4801           91              M            PA   \n",
       "20851            12        5566           91              M            PA   \n",
       "24615             0        6473           91              F            PA   \n",
       "24616             1        6473           91              F            PA   \n",
       "96724             0       25496           91              M            PA   \n",
       "108421            0       29391           91              F            PA   \n",
       "\n",
       "        OriginalImage[Width  Height]  OriginalImagePixelSpacing[x     y]  \n",
       "230                    2650     2465                        0.143  0.143  \n",
       "581                    2500     2048                        0.168  0.168  \n",
       "585                    2992     2991                        0.143  0.143  \n",
       "587                    2992     2991                        0.143  0.143  \n",
       "3973                   2048     2500                        0.168  0.168  \n",
       "17750                  2992     2991                        0.143  0.143  \n",
       "20851                  2992     2991                        0.143  0.143  \n",
       "24615                  2048     2500                        0.168  0.168  \n",
       "24616                  2048     2500                        0.168  0.168  \n",
       "96724                  2992     2991                        0.143  0.143  \n",
       "108421                 2544     3056                        0.139  0.139  "
      ]
     },
     "execution_count": 160,
     "metadata": {},
     "output_type": "execute_result"
    }
   ],
   "source": [
    "data_entry_df[data_entry_df['Patient Age']== 91]"
   ]
  },
  {
   "cell_type": "markdown",
   "metadata": {},
   "source": [
    "Let's see if we can read some of the x-ray images"
   ]
  },
  {
   "cell_type": "code",
   "execution_count": 163,
   "metadata": {
    "ExecuteTime": {
     "end_time": "2020-04-22T19:01:50.492394Z",
     "start_time": "2020-04-22T19:01:50.484543Z"
    }
   },
   "outputs": [],
   "source": [
    "home_path = os.path.expanduser('~')\n",
    "git_dir = os.path.join(home_path, \"Documents\\\\WFT\\\\DataScience\\\\Git\") #for Murad\n",
    "#git_dir = os.path.join(home_path, \"Documents/GitHub\") #for Sergazy\n",
    "nih_dir = os.path.join(git_dir, \"NIH-CHEST-XRAY\")\n",
    "data_dir = os.path.join(nih_dir, \"data\")\n",
    "train_val_imagelist_file = os.path.join(data_dir, \"train_val_list.txt\")\n",
    "images_001_dir = os.path.join(data_dir, \"images_001\\\\images\") #for Murad\n",
    "#images_001_dir = os.path.join(nih_dir, \"images\") #for Sergazy\n",
    "images_001_list = []\n",
    "\n",
    "train_val_file = open(train_val_imagelist_file , 'r')\n"
   ]
  },
  {
   "cell_type": "code",
   "execution_count": 164,
   "metadata": {
    "ExecuteTime": {
     "end_time": "2020-04-22T19:01:53.168688Z",
     "start_time": "2020-04-22T19:01:52.694834Z"
    }
   },
   "outputs": [],
   "source": [
    "for line in train_val_file:\n",
    "    line = line.rstrip(\"\\n\")\n",
    "    #print(type(line))\n",
    "    file_loc = os.path.join(images_001_dir, line)\n",
    "    images_001_list.append(file_loc)\n",
    "    #print(images_001_list)\n",
    "train_val_file.close()"
   ]
  },
  {
   "cell_type": "code",
   "execution_count": 165,
   "metadata": {
    "ExecuteTime": {
     "end_time": "2020-04-22T19:01:54.399978Z",
     "start_time": "2020-04-22T19:01:54.396051Z"
    }
   },
   "outputs": [],
   "source": [
    "#images_001_list"
   ]
  },
  {
   "cell_type": "code",
   "execution_count": 249,
   "metadata": {
    "ExecuteTime": {
     "end_time": "2020-04-22T21:18:12.373275Z",
     "start_time": "2020-04-22T21:18:12.024977Z"
    }
   },
   "outputs": [
    {
     "data": {
      "image/png": "[encoded data removed]",
      "text/plain": [
       "<Figure size 432x288 with 1 Axes>"
      ]
     },
     "metadata": {
      "needs_background": "light"
     },
     "output_type": "display_data"
    }
   ],
   "source": [
    "image_index_1 = 0\n",
    "\n",
    "#image_orig_1 = Image.open(images_001_list[image_index_1])\n",
    "image_orig_1 = load_img(images_001_list[image_index_1])\n",
    "\n",
    "plt.imshow(image_orig_1, cmap='gray');"
   ]
  },
  {
   "cell_type": "code",
   "execution_count": 251,
   "metadata": {
    "ExecuteTime": {
     "end_time": "2020-04-22T21:19:39.912716Z",
     "start_time": "2020-04-22T21:19:39.891828Z"
    }
   },
   "outputs": [
    {
     "data": {
      "text/plain": [
       "array([[[202., 202., 202.],\n",
       "        [199., 199., 199.],\n",
       "        [195., 195., 195.],\n",
       "        ...,\n",
       "        [  5.,   5.,   5.],\n",
       "        [  2.,   2.,   2.],\n",
       "        [  0.,   0.,   0.]],\n",
       "\n",
       "       [[199., 199., 199.],\n",
       "        [196., 196., 196.],\n",
       "        [195., 195., 195.],\n",
       "        ...,\n",
       "        [  5.,   5.,   5.],\n",
       "        [  2.,   2.,   2.],\n",
       "        [  0.,   0.,   0.]],\n",
       "\n",
       "       [[196., 196., 196.],\n",
       "        [194., 194., 194.],\n",
       "        [193., 193., 193.],\n",
       "        ...,\n",
       "        [  5.,   5.,   5.],\n",
       "        [  2.,   2.,   2.],\n",
       "        [  0.,   0.,   0.]],\n",
       "\n",
       "       ...,\n",
       "\n",
       "       [[255., 255., 255.],\n",
       "        [255., 255., 255.],\n",
       "        [255., 255., 255.],\n",
       "        ...,\n",
       "        [  0.,   0.,   0.],\n",
       "        [  0.,   0.,   0.],\n",
       "        [  0.,   0.,   0.]],\n",
       "\n",
       "       [[255., 255., 255.],\n",
       "        [255., 255., 255.],\n",
       "        [254., 254., 254.],\n",
       "        ...,\n",
       "        [  0.,   0.,   0.],\n",
       "        [  0.,   0.,   0.],\n",
       "        [  0.,   0.,   0.]],\n",
       "\n",
       "       [[255., 255., 255.],\n",
       "        [255., 255., 255.],\n",
       "        [255., 255., 255.],\n",
       "        ...,\n",
       "        [  0.,   0.,   0.],\n",
       "        [  0.,   0.,   0.],\n",
       "        [  0.,   0.,   0.]]], dtype=float32)"
      ]
     },
     "execution_count": 251,
     "metadata": {},
     "output_type": "execute_result"
    }
   ],
   "source": [
    "img_array = img_to_array(image_orig_1)\n",
    "img_array"
   ]
  },
  {
   "cell_type": "code",
   "execution_count": 252,
   "metadata": {
    "ExecuteTime": {
     "end_time": "2020-04-22T21:20:23.752955Z",
     "start_time": "2020-04-22T21:20:23.434277Z"
    }
   },
   "outputs": [
    {
     "data": {
      "image/png": "[encoded data removed]",
      "text/plain": [
       "<Figure size 432x288 with 1 Axes>"
      ]
     },
     "metadata": {
      "needs_background": "light"
     },
     "output_type": "display_data"
    }
   ],
   "source": [
    "image_index_2 = 4\n",
    "\n",
    "#image_orig_1 = Image.open(images_001_list[image_index_1])\n",
    "image_orig_2 = load_img(images_001_list[image_index_2])\n",
    "\n",
    "plt.imshow(image_orig_2, cmap='gray');"
   ]
  },
  {
   "cell_type": "code",
   "execution_count": 255,
   "metadata": {
    "ExecuteTime": {
     "end_time": "2020-04-22T21:21:31.533071Z",
     "start_time": "2020-04-22T21:21:31.510471Z"
    }
   },
   "outputs": [
    {
     "data": {
      "text/plain": [
       "(1024, 1024, 3)"
      ]
     },
     "execution_count": 255,
     "metadata": {},
     "output_type": "execute_result"
    }
   ],
   "source": [
    "img_array2 = img_to_array(image_orig_2)\n",
    "img_array2.shape"
   ]
  },
  {
   "cell_type": "code",
   "execution_count": 171,
   "metadata": {
    "ExecuteTime": {
     "end_time": "2020-04-22T19:02:29.529244Z",
     "start_time": "2020-04-22T19:02:29.243548Z"
    }
   },
   "outputs": [
    {
     "data": {
      "text/plain": [
       "<matplotlib.image.AxesImage at 0x294f0fdbe48>"
      ]
     },
     "execution_count": 171,
     "metadata": {},
     "output_type": "execute_result"
    },
    {
     "data": {
      "image/png": "[encoded data removed]",
      "text/plain": [
       "<Figure size 864x576 with 1 Axes>"
      ]
     },
     "metadata": {
      "needs_background": "light"
     },
     "output_type": "display_data"
    }
   ],
   "source": [
    "image_orig_1.size\n",
    "width, height = image_orig_1.size  \n",
    "\n",
    "newsize = (int(width/4), int(height/4))\n",
    "im1 = image_orig_1.resize(newsize) \n",
    "plt.imshow(im1, cmap='gray')"
   ]
  },
  {
   "cell_type": "code",
   "execution_count": 172,
   "metadata": {
    "ExecuteTime": {
     "end_time": "2020-04-22T19:02:32.730648Z",
     "start_time": "2020-04-22T19:02:32.723778Z"
    }
   },
   "outputs": [],
   "source": [
    "#image_orig_1"
   ]
  },
  {
   "cell_type": "code",
   "execution_count": 173,
   "metadata": {
    "ExecuteTime": {
     "end_time": "2020-04-22T19:02:33.484580Z",
     "start_time": "2020-04-22T19:02:33.476118Z"
    }
   },
   "outputs": [
    {
     "name": "stdout",
     "output_type": "stream",
     "text": [
      "[[[  5   5   5 255]\n",
      "  [  8   8   8 255]\n",
      "  [  8   8   8 255]\n",
      "  ...\n",
      "  [  8   8   8 255]\n",
      "  [  9   9   9 255]\n",
      "  [  5   5   5 255]]\n",
      "\n",
      " [[  9   9   9 255]\n",
      "  [ 17  17  17 255]\n",
      "  [ 16  16  16 255]\n",
      "  ...\n",
      "  [ 15  15  15 255]\n",
      "  [ 16  16  16 255]\n",
      "  [ 10  10  10 255]]\n",
      "\n",
      " [[  9   9   9 255]\n",
      "  [ 16  16  16 255]\n",
      "  [ 15  15  15 255]\n",
      "  ...\n",
      "  [ 15  15  15 255]\n",
      "  [ 15  15  15 255]\n",
      "  [ 11  11  11 255]]\n",
      "\n",
      " ...\n",
      "\n",
      " [[ 10  10  10 255]\n",
      "  [ 18  18  18 255]\n",
      "  [ 19  19  19 255]\n",
      "  ...\n",
      "  [ 67  67  67 255]\n",
      "  [ 74  74  74 255]\n",
      "  [ 46  46  46 255]]\n",
      "\n",
      " [[  5   5   5 255]\n",
      "  [  9   9   9 255]\n",
      "  [  9   9   9 255]\n",
      "  ...\n",
      "  [ 30  30  30 255]\n",
      "  [ 34  34  34 255]\n",
      "  [ 21  21  21 255]]\n",
      "\n",
      " [[  1   1   1 255]\n",
      "  [  0   0   0 255]\n",
      "  [  0   0   0 255]\n",
      "  ...\n",
      "  [  0   0   0 255]\n",
      "  [  0   0   0 255]\n",
      "  [  0   0   0 255]]]\n"
     ]
    }
   ],
   "source": [
    "# convert image to numpy array\n",
    "data = asarray(image_orig_1)\n",
    "#print(type(data))\n",
    "# summarize shape\n",
    "#print(data.shape)\n",
    "print(data)\n",
    "\n",
    "# create Pillow image\n",
    "#image2 = Image.fromarray(data)\n",
    "#print(type(image2))\n",
    "\n",
    "# summarize image details\n",
    "#print(image2.mode)\n",
    "#print(image2.size)"
   ]
  },
  {
   "cell_type": "code",
   "execution_count": 174,
   "metadata": {
    "ExecuteTime": {
     "end_time": "2020-04-22T19:02:39.354870Z",
     "start_time": "2020-04-22T19:02:39.347999Z"
    }
   },
   "outputs": [
    {
     "data": {
      "text/plain": [
       "(1024, 1024, 4)"
      ]
     },
     "execution_count": 174,
     "metadata": {},
     "output_type": "execute_result"
    }
   ],
   "source": [
    "data.shape"
   ]
  },
  {
   "cell_type": "code",
   "execution_count": 175,
   "metadata": {
    "ExecuteTime": {
     "end_time": "2020-04-22T19:02:44.205561Z",
     "start_time": "2020-04-22T19:02:44.196992Z"
    }
   },
   "outputs": [],
   "source": [
    "x_1 = asarray(im1)"
   ]
  },
  {
   "cell_type": "code",
   "execution_count": 176,
   "metadata": {
    "ExecuteTime": {
     "end_time": "2020-04-22T19:02:48.249636Z",
     "start_time": "2020-04-22T19:02:48.211366Z"
    }
   },
   "outputs": [
    {
     "data": {
      "text/plain": [
       "array([[[  5,   5,   5, 255],\n",
       "        [  8,   8,   8, 255],\n",
       "        [  8,   8,   8, 255],\n",
       "        ...,\n",
       "        [  8,   8,   8, 255],\n",
       "        [  9,   9,   9, 255],\n",
       "        [  5,   5,   5, 255]],\n",
       "\n",
       "       [[  9,   9,   9, 255],\n",
       "        [ 17,  17,  17, 255],\n",
       "        [ 16,  16,  16, 255],\n",
       "        ...,\n",
       "        [ 15,  15,  15, 255],\n",
       "        [ 16,  16,  16, 255],\n",
       "        [ 10,  10,  10, 255]],\n",
       "\n",
       "       [[  9,   9,   9, 255],\n",
       "        [ 16,  16,  16, 255],\n",
       "        [ 15,  15,  15, 255],\n",
       "        ...,\n",
       "        [ 15,  15,  15, 255],\n",
       "        [ 15,  15,  15, 255],\n",
       "        [ 11,  11,  11, 255]],\n",
       "\n",
       "       ...,\n",
       "\n",
       "       [[ 10,  10,  10, 255],\n",
       "        [ 18,  18,  18, 255],\n",
       "        [ 19,  19,  19, 255],\n",
       "        ...,\n",
       "        [ 67,  67,  67, 255],\n",
       "        [ 74,  74,  74, 255],\n",
       "        [ 46,  46,  46, 255]],\n",
       "\n",
       "       [[  5,   5,   5, 255],\n",
       "        [  9,   9,   9, 255],\n",
       "        [  9,   9,   9, 255],\n",
       "        ...,\n",
       "        [ 30,  30,  30, 255],\n",
       "        [ 34,  34,  34, 255],\n",
       "        [ 21,  21,  21, 255]],\n",
       "\n",
       "       [[  1,   1,   1, 255],\n",
       "        [  0,   0,   0, 255],\n",
       "        [  0,   0,   0, 255],\n",
       "        ...,\n",
       "        [  0,   0,   0, 255],\n",
       "        [  0,   0,   0, 255],\n",
       "        [  0,   0,   0, 255]]], dtype=uint8)"
      ]
     },
     "execution_count": 176,
     "metadata": {},
     "output_type": "execute_result"
    }
   ],
   "source": [
    "#image_index_1 = 0\n",
    "\n",
    "image_orig_1 = Image.open(images_001_list[4])#.convert(\"L\")\n",
    "#plt.imshow(image_orig_1, cmap='gray');\n",
    "#img = PIL.Image.open(\"foo.jpg\")\n",
    "imgarr = np.array(image_orig_1) \n",
    "imgarr"
   ]
  },
  {
   "cell_type": "code",
   "execution_count": 177,
   "metadata": {
    "ExecuteTime": {
     "end_time": "2020-04-22T19:03:03.074891Z",
     "start_time": "2020-04-22T19:03:03.069002Z"
    }
   },
   "outputs": [],
   "source": [
    "img= np.array([[[155,  33, 129],\n",
    "        [161, 218,   6]],\n",
    "\n",
    "       [[215, 142, 235],\n",
    "        [143, 249, 164]],\n",
    "\n",
    "       [[221,  71, 229],\n",
    "        [ 56,  91, 120]],\n",
    "\n",
    "       [[236,   4, 177],\n",
    "        [171, 105,  40]]])\n",
    "\n"
   ]
  },
  {
   "cell_type": "code",
   "execution_count": 178,
   "metadata": {
    "ExecuteTime": {
     "end_time": "2020-04-22T19:03:03.704398Z",
     "start_time": "2020-04-22T19:03:03.699913Z"
    }
   },
   "outputs": [
    {
     "data": {
      "text/plain": [
       "(4, 2, 3)"
      ]
     },
     "execution_count": 178,
     "metadata": {},
     "output_type": "execute_result"
    }
   ],
   "source": [
    "img.shape"
   ]
  },
  {
   "cell_type": "code",
   "execution_count": 179,
   "metadata": {
    "ExecuteTime": {
     "end_time": "2020-04-22T19:03:06.497942Z",
     "start_time": "2020-04-22T19:03:06.492054Z"
    }
   },
   "outputs": [
    {
     "data": {
      "text/plain": [
       "array([[[155, 215, 221, 236],\n",
       "        [161, 143,  56, 171]],\n",
       "\n",
       "       [[ 33, 142,  71,   4],\n",
       "        [218, 249,  91, 105]],\n",
       "\n",
       "       [[129, 235, 229, 177],\n",
       "        [  6, 164, 120,  40]]])"
      ]
     },
     "execution_count": 179,
     "metadata": {},
     "output_type": "execute_result"
    }
   ],
   "source": [
    "img.transpose()"
   ]
  },
  {
   "cell_type": "code",
   "execution_count": 180,
   "metadata": {
    "ExecuteTime": {
     "end_time": "2020-04-22T19:03:07.801874Z",
     "start_time": "2020-04-22T19:03:07.796460Z"
    }
   },
   "outputs": [
    {
     "data": {
      "text/plain": [
       "array([[[155, 215, 221, 236],\n",
       "        [ 33, 142,  71,   4],\n",
       "        [129, 235, 229, 177]],\n",
       "\n",
       "       [[161, 143,  56, 171],\n",
       "        [218, 249,  91, 105],\n",
       "        [  6, 164, 120,  40]]])"
      ]
     },
     "execution_count": 180,
     "metadata": {},
     "output_type": "execute_result"
    }
   ],
   "source": [
    "img.transpose(1,2,0)"
   ]
  },
  {
   "cell_type": "code",
   "execution_count": 181,
   "metadata": {
    "ExecuteTime": {
     "end_time": "2020-04-22T19:03:10.432343Z",
     "start_time": "2020-04-22T19:03:10.420569Z"
    }
   },
   "outputs": [
    {
     "ename": "ValueError",
     "evalue": "cannot reshape array of size 4194304 into shape (65,newaxis)",
     "output_type": "error",
     "traceback": [
      "\u001b[1;31m---------------------------------------------------------------------------\u001b[0m",
      "\u001b[1;31mValueError\u001b[0m                                Traceback (most recent call last)",
      "\u001b[1;32m<ipython-input-181-0823e19e0176>\u001b[0m in \u001b[0;36m<module>\u001b[1;34m\u001b[0m\n\u001b[1;32m----> 1\u001b[1;33m \u001b[0mimgarr\u001b[0m\u001b[1;33m.\u001b[0m\u001b[0mtranspose\u001b[0m\u001b[1;33m(\u001b[0m\u001b[1;36m2\u001b[0m\u001b[1;33m,\u001b[0m\u001b[1;36m0\u001b[0m\u001b[1;33m,\u001b[0m\u001b[1;36m1\u001b[0m\u001b[1;33m)\u001b[0m\u001b[1;33m.\u001b[0m\u001b[0mreshape\u001b[0m\u001b[1;33m(\u001b[0m\u001b[1;36m65\u001b[0m\u001b[1;33m,\u001b[0m\u001b[1;33m-\u001b[0m\u001b[1;36m1\u001b[0m\u001b[1;33m)\u001b[0m\u001b[1;33m\u001b[0m\u001b[1;33m\u001b[0m\u001b[0m\n\u001b[0m",
      "\u001b[1;31mValueError\u001b[0m: cannot reshape array of size 4194304 into shape (65,newaxis)"
     ]
    }
   ],
   "source": [
    "imgarr.transpose(2,0,1).reshape(65,-1)"
   ]
  },
  {
   "cell_type": "code",
   "execution_count": 182,
   "metadata": {
    "ExecuteTime": {
     "end_time": "2020-04-22T19:03:23.230210Z",
     "start_time": "2020-04-22T19:03:23.220240Z"
    }
   },
   "outputs": [
    {
     "ename": "ValueError",
     "evalue": "cannot reshape array of size 262144 into shape (1,65536)",
     "output_type": "error",
     "traceback": [
      "\u001b[1;31m---------------------------------------------------------------------------\u001b[0m",
      "\u001b[1;31mValueError\u001b[0m                                Traceback (most recent call last)",
      "\u001b[1;32m<ipython-input-182-11553d1e43b2>\u001b[0m in \u001b[0;36m<module>\u001b[1;34m\u001b[0m\n\u001b[1;32m----> 1\u001b[1;33m \u001b[0mprint\u001b[0m\u001b[1;33m(\u001b[0m\u001b[0mx_1\u001b[0m\u001b[1;33m.\u001b[0m\u001b[0mreshape\u001b[0m\u001b[1;33m(\u001b[0m\u001b[1;36m1\u001b[0m\u001b[1;33m,\u001b[0m\u001b[1;36m65536\u001b[0m\u001b[1;33m)\u001b[0m\u001b[1;33m)\u001b[0m\u001b[1;33m\u001b[0m\u001b[1;33m\u001b[0m\u001b[0m\n\u001b[0m",
      "\u001b[1;31mValueError\u001b[0m: cannot reshape array of size 262144 into shape (1,65536)"
     ]
    }
   ],
   "source": [
    "print(x_1.reshape(1,65536))"
   ]
  },
  {
   "cell_type": "code",
   "execution_count": 241,
   "metadata": {
    "ExecuteTime": {
     "end_time": "2020-04-22T19:58:30.687582Z",
     "start_time": "2020-04-22T19:58:30.542496Z"
    }
   },
   "outputs": [
    {
     "name": "stdout",
     "output_type": "stream",
     "text": [
      "0\n",
      "[194 189 181 ...   7   0   0]\n",
      "1\n",
      "[205 204 202 ...   6   1   0]\n",
      "2\n",
      "[15 13 11 ... 92 60 25]\n",
      "3\n",
      "[119  90  80 ...  17  16  16]\n"
     ]
    },
    {
     "data": {
      "text/plain": [
       "(4, 65536)"
      ]
     },
     "execution_count": 241,
     "metadata": {},
     "output_type": "execute_result"
    }
   ],
   "source": [
    "X = []\n",
    "#X = array([[]], dtype=object)\n",
    "for i in range(4):\n",
    "    #image_index_1 = i\n",
    "    print(i)\n",
    "\n",
    "    image_orig_1 = Image.open(images_001_list[i])\n",
    "    if i ==4:\n",
    "        plt.imshow(image_orig_1, cmap='gray');\n",
    "    #image_orig_1.size\n",
    "    width, height = image_orig_1.size  \n",
    "    #print(image_orig_1.size)\n",
    "    newsize = (int(width/4), int(height/4))\n",
    "    im1 = image_orig_1.resize(newsize) \n",
    "    #print(im1.size)\n",
    "    #plt.imshow(im1, cmap='gray')\n",
    "    x_i = asarray(im1)\n",
    "    list(x_i)\n",
    "    x_i=x_i.reshape(1,65536)\n",
    "    print(x_i[0])\n",
    "    #print(x_i.shape)\n",
    "    X.append(list(x_i[0]))\n",
    "X = asarray(X)\n",
    "X.shape"
   ]
  },
  {
   "cell_type": "code",
   "execution_count": 238,
   "metadata": {
    "ExecuteTime": {
     "end_time": "2020-04-22T19:57:15.793698Z",
     "start_time": "2020-04-22T19:57:15.789185Z"
    }
   },
   "outputs": [
    {
     "data": {
      "text/plain": [
       "array([[194, 189, 181, ...,   7,   0,   0],\n",
       "       [205, 204, 202, ...,   6,   1,   0],\n",
       "       [ 15,  13,  11, ...,  92,  60,  25],\n",
       "       [119,  90,  80, ...,  17,  16,  16]], dtype=uint8)"
      ]
     },
     "execution_count": 238,
     "metadata": {},
     "output_type": "execute_result"
    }
   ],
   "source": [
    "X"
   ]
  },
  {
   "cell_type": "code",
   "execution_count": 198,
   "metadata": {
    "ExecuteTime": {
     "end_time": "2020-04-22T19:11:09.172949Z",
     "start_time": "2020-04-22T19:11:09.166080Z"
    }
   },
   "outputs": [
    {
     "data": {
      "text/plain": [
       "array([194, 189, 181, ...,   7,   0,   0], dtype=uint8)"
      ]
     },
     "execution_count": 198,
     "metadata": {},
     "output_type": "execute_result"
    }
   ],
   "source": [
    "df_Y = pd.DataFrame(Y, columns=[\"target\"])"
   ]
  },
  {
   "cell_type": "code",
   "execution_count": 210,
   "metadata": {
    "ExecuteTime": {
     "end_time": "2020-04-22T19:21:08.502613Z",
     "start_time": "2020-04-22T19:21:08.485932Z"
    }
   },
   "outputs": [
    {
     "ename": "AttributeError",
     "evalue": "'numpy.ndarray' object has no attribute 'type'",
     "output_type": "error",
     "traceback": [
      "\u001b[1;31m---------------------------------------------------------------------------\u001b[0m",
      "\u001b[1;31mAttributeError\u001b[0m                            Traceback (most recent call last)",
      "\u001b[1;32m<ipython-input-210-4db6062249e3>\u001b[0m in \u001b[0;36m<module>\u001b[1;34m\u001b[0m\n\u001b[0;32m      2\u001b[0m \u001b[1;32mfor\u001b[0m \u001b[0mi\u001b[0m \u001b[1;32min\u001b[0m \u001b[0mrange\u001b[0m\u001b[1;33m(\u001b[0m\u001b[0mlen\u001b[0m\u001b[1;33m(\u001b[0m\u001b[0mX\u001b[0m\u001b[1;33m)\u001b[0m\u001b[1;33m)\u001b[0m\u001b[1;33m:\u001b[0m\u001b[1;33m\u001b[0m\u001b[1;33m\u001b[0m\u001b[0m\n\u001b[0;32m      3\u001b[0m     \u001b[0mtemp\u001b[0m \u001b[1;33m=\u001b[0m \u001b[0mX\u001b[0m\u001b[1;33m[\u001b[0m\u001b[0mi\u001b[0m\u001b[1;33m]\u001b[0m\u001b[1;33m[\u001b[0m\u001b[1;36m0\u001b[0m\u001b[1;33m]\u001b[0m\u001b[1;33m\u001b[0m\u001b[1;33m\u001b[0m\u001b[0m\n\u001b[1;32m----> 4\u001b[1;33m     \u001b[0mprint\u001b[0m\u001b[1;33m(\u001b[0m\u001b[0mtemp\u001b[0m\u001b[1;33m.\u001b[0m\u001b[0mtype\u001b[0m\u001b[1;33m(\u001b[0m\u001b[1;33m)\u001b[0m\u001b[1;33m)\u001b[0m\u001b[1;33m\u001b[0m\u001b[1;33m\u001b[0m\u001b[0m\n\u001b[0m\u001b[0;32m      5\u001b[0m     \u001b[1;31m#temp=temp.reshape(1,65536)\u001b[0m\u001b[1;33m\u001b[0m\u001b[1;33m\u001b[0m\u001b[1;33m\u001b[0m\u001b[0m\n\u001b[0;32m      6\u001b[0m     \u001b[0mX_train\u001b[0m\u001b[1;33m.\u001b[0m\u001b[0mappend\u001b[0m\u001b[1;33m(\u001b[0m\u001b[0mtemp\u001b[0m\u001b[1;33m)\u001b[0m\u001b[1;33m\u001b[0m\u001b[1;33m\u001b[0m\u001b[0m\n",
      "\u001b[1;31mAttributeError\u001b[0m: 'numpy.ndarray' object has no attribute 'type'"
     ]
    }
   ],
   "source": [
    "X_train = []\n",
    "for i in range(len(X)):\n",
    "    temp_list = X[i][0]\n",
    "    new_list\n",
    "    j = [j for j in temp_list]\n",
    "    #for j in rang\n",
    "    #temp = X[i][0]\n",
    "    print(temp.type())\n",
    "    #temp=temp.reshape(1,65536)\n",
    "    X_train.append(temp)\n",
    "#X_train = [x for x in X_train]\n",
    "#X_train"
   ]
  },
  {
   "cell_type": "code",
   "execution_count": 186,
   "metadata": {
    "ExecuteTime": {
     "end_time": "2020-04-21T01:15:45.399079Z",
     "start_time": "2020-04-21T01:15:45.367677Z"
    }
   },
   "outputs": [],
   "source": [
    "#patient_set = set(data_entry_df['Patient ID'])\n",
    "#len(patient_set)"
   ]
  },
  {
   "cell_type": "code",
   "execution_count": 35,
   "metadata": {},
   "outputs": [
    {
     "data": {
      "text/plain": [
       "0                   Cardiomegaly\n",
       "1         Cardiomegaly|Emphysema\n",
       "2          Cardiomegaly|Effusion\n",
       "3                     No Finding\n",
       "4                         Hernia\n",
       "                   ...          \n",
       "112115            Mass|Pneumonia\n",
       "112116                No Finding\n",
       "112117                No Finding\n",
       "112118                No Finding\n",
       "112119                No Finding\n",
       "Name: Finding Labels, Length: 112120, dtype: object"
      ]
     },
     "execution_count": 35,
     "metadata": {},
     "output_type": "execute_result"
    }
   ],
   "source": [
    "data_entry_df['Finding Labels']"
   ]
  },
  {
   "cell_type": "code",
   "execution_count": 37,
   "metadata": {},
   "outputs": [
    {
     "data": {
      "text/plain": [
       "['Atelectasis',\n",
       " 'Cardiomegaly',\n",
       " 'Consolidation',\n",
       " 'Edema',\n",
       " 'Effusion',\n",
       " 'Emphysema',\n",
       " 'Fibrosis',\n",
       " 'Hernia',\n",
       " 'Infiltration',\n",
       " 'Mass',\n",
       " 'No Finding',\n",
       " 'Nodule',\n",
       " 'Pleural_Thickening',\n",
       " 'Pneumonia',\n",
       " 'Pneumothorax']"
      ]
     },
     "execution_count": 37,
     "metadata": {},
     "output_type": "execute_result"
    }
   ],
   "source": [
    "all_labels"
   ]
  },
  {
   "cell_type": "code",
   "execution_count": 48,
   "metadata": {
    "ExecuteTime": {
     "end_time": "2020-04-21T01:28:45.067056Z",
     "start_time": "2020-04-21T01:28:44.010123Z"
    }
   },
   "outputs": [
    {
     "data": {
      "text/html": [
       "<div>\n",
       "<style scoped>\n",
       "    .dataframe tbody tr th:only-of-type {\n",
       "        vertical-align: middle;\n",
       "    }\n",
       "\n",
       "    .dataframe tbody tr th {\n",
       "        vertical-align: top;\n",
       "    }\n",
       "\n",
       "    .dataframe thead th {\n",
       "        text-align: right;\n",
       "    }\n",
       "</style>\n",
       "<table border=\"1\" class=\"dataframe\">\n",
       "  <thead>\n",
       "    <tr style=\"text-align: right;\">\n",
       "      <th></th>\n",
       "      <th>Image Index</th>\n",
       "      <th>Finding Labels</th>\n",
       "      <th>Follow-up #</th>\n",
       "      <th>Patient ID</th>\n",
       "      <th>Patient Age</th>\n",
       "      <th>Patient Gender</th>\n",
       "      <th>View Position</th>\n",
       "      <th>OriginalImage[Width</th>\n",
       "      <th>Height]</th>\n",
       "      <th>OriginalImagePixelSpacing[x</th>\n",
       "      <th>...</th>\n",
       "      <th>Emphysema</th>\n",
       "      <th>Fibrosis</th>\n",
       "      <th>Hernia</th>\n",
       "      <th>Infiltration</th>\n",
       "      <th>Mass</th>\n",
       "      <th>No Finding</th>\n",
       "      <th>Nodule</th>\n",
       "      <th>Pleural_Thickening</th>\n",
       "      <th>Pneumonia</th>\n",
       "      <th>Pneumothorax</th>\n",
       "    </tr>\n",
       "  </thead>\n",
       "  <tbody>\n",
       "    <tr>\n",
       "      <th>7110</th>\n",
       "      <td>00001881_000.png</td>\n",
       "      <td>No Finding</td>\n",
       "      <td>0</td>\n",
       "      <td>1881</td>\n",
       "      <td>36</td>\n",
       "      <td>M</td>\n",
       "      <td>PA</td>\n",
       "      <td>2500</td>\n",
       "      <td>2048</td>\n",
       "      <td>0.168</td>\n",
       "      <td>...</td>\n",
       "      <td>0</td>\n",
       "      <td>0</td>\n",
       "      <td>0</td>\n",
       "      <td>0</td>\n",
       "      <td>0</td>\n",
       "      <td>1</td>\n",
       "      <td>0</td>\n",
       "      <td>0</td>\n",
       "      <td>0</td>\n",
       "      <td>0</td>\n",
       "    </tr>\n",
       "    <tr>\n",
       "      <th>22608</th>\n",
       "      <td>00005986_015.png</td>\n",
       "      <td>Pneumothorax</td>\n",
       "      <td>15</td>\n",
       "      <td>5986</td>\n",
       "      <td>33</td>\n",
       "      <td>M</td>\n",
       "      <td>PA</td>\n",
       "      <td>2048</td>\n",
       "      <td>2500</td>\n",
       "      <td>0.168</td>\n",
       "      <td>...</td>\n",
       "      <td>0</td>\n",
       "      <td>0</td>\n",
       "      <td>0</td>\n",
       "      <td>0</td>\n",
       "      <td>0</td>\n",
       "      <td>0</td>\n",
       "      <td>0</td>\n",
       "      <td>0</td>\n",
       "      <td>0</td>\n",
       "      <td>1</td>\n",
       "    </tr>\n",
       "    <tr>\n",
       "      <th>8567</th>\n",
       "      <td>00002268_000.png</td>\n",
       "      <td>No Finding</td>\n",
       "      <td>0</td>\n",
       "      <td>2268</td>\n",
       "      <td>59</td>\n",
       "      <td>M</td>\n",
       "      <td>PA</td>\n",
       "      <td>2992</td>\n",
       "      <td>2991</td>\n",
       "      <td>0.143</td>\n",
       "      <td>...</td>\n",
       "      <td>0</td>\n",
       "      <td>0</td>\n",
       "      <td>0</td>\n",
       "      <td>0</td>\n",
       "      <td>0</td>\n",
       "      <td>1</td>\n",
       "      <td>0</td>\n",
       "      <td>0</td>\n",
       "      <td>0</td>\n",
       "      <td>0</td>\n",
       "    </tr>\n",
       "    <tr>\n",
       "      <th>51224</th>\n",
       "      <td>00012935_021.png</td>\n",
       "      <td>Consolidation|Infiltration|Mass</td>\n",
       "      <td>21</td>\n",
       "      <td>12935</td>\n",
       "      <td>55</td>\n",
       "      <td>M</td>\n",
       "      <td>AP</td>\n",
       "      <td>2500</td>\n",
       "      <td>2048</td>\n",
       "      <td>0.168</td>\n",
       "      <td>...</td>\n",
       "      <td>0</td>\n",
       "      <td>0</td>\n",
       "      <td>0</td>\n",
       "      <td>1</td>\n",
       "      <td>1</td>\n",
       "      <td>0</td>\n",
       "      <td>0</td>\n",
       "      <td>0</td>\n",
       "      <td>0</td>\n",
       "      <td>0</td>\n",
       "    </tr>\n",
       "    <tr>\n",
       "      <th>33007</th>\n",
       "      <td>00008646_000.png</td>\n",
       "      <td>No Finding</td>\n",
       "      <td>0</td>\n",
       "      <td>8646</td>\n",
       "      <td>40</td>\n",
       "      <td>M</td>\n",
       "      <td>PA</td>\n",
       "      <td>2992</td>\n",
       "      <td>2991</td>\n",
       "      <td>0.143</td>\n",
       "      <td>...</td>\n",
       "      <td>0</td>\n",
       "      <td>0</td>\n",
       "      <td>0</td>\n",
       "      <td>0</td>\n",
       "      <td>0</td>\n",
       "      <td>1</td>\n",
       "      <td>0</td>\n",
       "      <td>0</td>\n",
       "      <td>0</td>\n",
       "      <td>0</td>\n",
       "    </tr>\n",
       "    <tr>\n",
       "      <th>46447</th>\n",
       "      <td>00011870_001.png</td>\n",
       "      <td>No Finding</td>\n",
       "      <td>1</td>\n",
       "      <td>11870</td>\n",
       "      <td>46</td>\n",
       "      <td>F</td>\n",
       "      <td>AP</td>\n",
       "      <td>2500</td>\n",
       "      <td>2048</td>\n",
       "      <td>0.168</td>\n",
       "      <td>...</td>\n",
       "      <td>0</td>\n",
       "      <td>0</td>\n",
       "      <td>0</td>\n",
       "      <td>0</td>\n",
       "      <td>0</td>\n",
       "      <td>1</td>\n",
       "      <td>0</td>\n",
       "      <td>0</td>\n",
       "      <td>0</td>\n",
       "      <td>0</td>\n",
       "    </tr>\n",
       "    <tr>\n",
       "      <th>75509</th>\n",
       "      <td>00018530_001.png</td>\n",
       "      <td>No Finding</td>\n",
       "      <td>1</td>\n",
       "      <td>18530</td>\n",
       "      <td>49</td>\n",
       "      <td>F</td>\n",
       "      <td>AP</td>\n",
       "      <td>3056</td>\n",
       "      <td>2544</td>\n",
       "      <td>0.139</td>\n",
       "      <td>...</td>\n",
       "      <td>0</td>\n",
       "      <td>0</td>\n",
       "      <td>0</td>\n",
       "      <td>0</td>\n",
       "      <td>0</td>\n",
       "      <td>1</td>\n",
       "      <td>0</td>\n",
       "      <td>0</td>\n",
       "      <td>0</td>\n",
       "      <td>0</td>\n",
       "    </tr>\n",
       "    <tr>\n",
       "      <th>23881</th>\n",
       "      <td>00006296_025.png</td>\n",
       "      <td>Infiltration</td>\n",
       "      <td>25</td>\n",
       "      <td>6296</td>\n",
       "      <td>15</td>\n",
       "      <td>F</td>\n",
       "      <td>AP</td>\n",
       "      <td>2500</td>\n",
       "      <td>2048</td>\n",
       "      <td>0.171</td>\n",
       "      <td>...</td>\n",
       "      <td>0</td>\n",
       "      <td>0</td>\n",
       "      <td>0</td>\n",
       "      <td>1</td>\n",
       "      <td>0</td>\n",
       "      <td>0</td>\n",
       "      <td>0</td>\n",
       "      <td>0</td>\n",
       "      <td>0</td>\n",
       "      <td>0</td>\n",
       "    </tr>\n",
       "    <tr>\n",
       "      <th>100981</th>\n",
       "      <td>00026818_016.png</td>\n",
       "      <td>Infiltration</td>\n",
       "      <td>16</td>\n",
       "      <td>26818</td>\n",
       "      <td>31</td>\n",
       "      <td>M</td>\n",
       "      <td>AP</td>\n",
       "      <td>3056</td>\n",
       "      <td>2544</td>\n",
       "      <td>0.139</td>\n",
       "      <td>...</td>\n",
       "      <td>0</td>\n",
       "      <td>0</td>\n",
       "      <td>0</td>\n",
       "      <td>1</td>\n",
       "      <td>0</td>\n",
       "      <td>0</td>\n",
       "      <td>0</td>\n",
       "      <td>0</td>\n",
       "      <td>0</td>\n",
       "      <td>0</td>\n",
       "    </tr>\n",
       "    <tr>\n",
       "      <th>61741</th>\n",
       "      <td>00015255_014.png</td>\n",
       "      <td>No Finding</td>\n",
       "      <td>14</td>\n",
       "      <td>15255</td>\n",
       "      <td>46</td>\n",
       "      <td>M</td>\n",
       "      <td>PA</td>\n",
       "      <td>2992</td>\n",
       "      <td>2991</td>\n",
       "      <td>0.143</td>\n",
       "      <td>...</td>\n",
       "      <td>0</td>\n",
       "      <td>0</td>\n",
       "      <td>0</td>\n",
       "      <td>0</td>\n",
       "      <td>0</td>\n",
       "      <td>1</td>\n",
       "      <td>0</td>\n",
       "      <td>0</td>\n",
       "      <td>0</td>\n",
       "      <td>0</td>\n",
       "    </tr>\n",
       "    <tr>\n",
       "      <th>25626</th>\n",
       "      <td>00006738_003.png</td>\n",
       "      <td>No Finding</td>\n",
       "      <td>3</td>\n",
       "      <td>6738</td>\n",
       "      <td>35</td>\n",
       "      <td>F</td>\n",
       "      <td>PA</td>\n",
       "      <td>2992</td>\n",
       "      <td>2991</td>\n",
       "      <td>0.143</td>\n",
       "      <td>...</td>\n",
       "      <td>0</td>\n",
       "      <td>0</td>\n",
       "      <td>0</td>\n",
       "      <td>0</td>\n",
       "      <td>0</td>\n",
       "      <td>1</td>\n",
       "      <td>0</td>\n",
       "      <td>0</td>\n",
       "      <td>0</td>\n",
       "      <td>0</td>\n",
       "    </tr>\n",
       "    <tr>\n",
       "      <th>69623</th>\n",
       "      <td>00017158_003.png</td>\n",
       "      <td>Infiltration</td>\n",
       "      <td>3</td>\n",
       "      <td>17158</td>\n",
       "      <td>62</td>\n",
       "      <td>M</td>\n",
       "      <td>AP</td>\n",
       "      <td>3056</td>\n",
       "      <td>2544</td>\n",
       "      <td>0.139</td>\n",
       "      <td>...</td>\n",
       "      <td>0</td>\n",
       "      <td>0</td>\n",
       "      <td>0</td>\n",
       "      <td>1</td>\n",
       "      <td>0</td>\n",
       "      <td>0</td>\n",
       "      <td>0</td>\n",
       "      <td>0</td>\n",
       "      <td>0</td>\n",
       "      <td>0</td>\n",
       "    </tr>\n",
       "    <tr>\n",
       "      <th>95748</th>\n",
       "      <td>00025189_006.png</td>\n",
       "      <td>No Finding</td>\n",
       "      <td>6</td>\n",
       "      <td>25189</td>\n",
       "      <td>51</td>\n",
       "      <td>F</td>\n",
       "      <td>AP</td>\n",
       "      <td>3056</td>\n",
       "      <td>2544</td>\n",
       "      <td>0.139</td>\n",
       "      <td>...</td>\n",
       "      <td>0</td>\n",
       "      <td>0</td>\n",
       "      <td>0</td>\n",
       "      <td>0</td>\n",
       "      <td>0</td>\n",
       "      <td>1</td>\n",
       "      <td>0</td>\n",
       "      <td>0</td>\n",
       "      <td>0</td>\n",
       "      <td>0</td>\n",
       "    </tr>\n",
       "    <tr>\n",
       "      <th>41951</th>\n",
       "      <td>00010805_036.png</td>\n",
       "      <td>Effusion</td>\n",
       "      <td>36</td>\n",
       "      <td>10805</td>\n",
       "      <td>8</td>\n",
       "      <td>F</td>\n",
       "      <td>AP</td>\n",
       "      <td>2500</td>\n",
       "      <td>2048</td>\n",
       "      <td>0.168</td>\n",
       "      <td>...</td>\n",
       "      <td>0</td>\n",
       "      <td>0</td>\n",
       "      <td>0</td>\n",
       "      <td>0</td>\n",
       "      <td>0</td>\n",
       "      <td>0</td>\n",
       "      <td>0</td>\n",
       "      <td>0</td>\n",
       "      <td>0</td>\n",
       "      <td>0</td>\n",
       "    </tr>\n",
       "    <tr>\n",
       "      <th>100967</th>\n",
       "      <td>00026818_002.png</td>\n",
       "      <td>No Finding</td>\n",
       "      <td>2</td>\n",
       "      <td>26818</td>\n",
       "      <td>31</td>\n",
       "      <td>M</td>\n",
       "      <td>AP</td>\n",
       "      <td>3056</td>\n",
       "      <td>2544</td>\n",
       "      <td>0.139</td>\n",
       "      <td>...</td>\n",
       "      <td>0</td>\n",
       "      <td>0</td>\n",
       "      <td>0</td>\n",
       "      <td>0</td>\n",
       "      <td>0</td>\n",
       "      <td>1</td>\n",
       "      <td>0</td>\n",
       "      <td>0</td>\n",
       "      <td>0</td>\n",
       "      <td>0</td>\n",
       "    </tr>\n",
       "    <tr>\n",
       "      <th>84621</th>\n",
       "      <td>00020827_004.png</td>\n",
       "      <td>No Finding</td>\n",
       "      <td>4</td>\n",
       "      <td>20827</td>\n",
       "      <td>53</td>\n",
       "      <td>M</td>\n",
       "      <td>PA</td>\n",
       "      <td>2992</td>\n",
       "      <td>2991</td>\n",
       "      <td>0.143</td>\n",
       "      <td>...</td>\n",
       "      <td>0</td>\n",
       "      <td>0</td>\n",
       "      <td>0</td>\n",
       "      <td>0</td>\n",
       "      <td>0</td>\n",
       "      <td>1</td>\n",
       "      <td>0</td>\n",
       "      <td>0</td>\n",
       "      <td>0</td>\n",
       "      <td>0</td>\n",
       "    </tr>\n",
       "    <tr>\n",
       "      <th>55639</th>\n",
       "      <td>00013922_008.png</td>\n",
       "      <td>Consolidation|Infiltration</td>\n",
       "      <td>8</td>\n",
       "      <td>13922</td>\n",
       "      <td>52</td>\n",
       "      <td>M</td>\n",
       "      <td>AP</td>\n",
       "      <td>3056</td>\n",
       "      <td>2544</td>\n",
       "      <td>0.139</td>\n",
       "      <td>...</td>\n",
       "      <td>0</td>\n",
       "      <td>0</td>\n",
       "      <td>0</td>\n",
       "      <td>1</td>\n",
       "      <td>0</td>\n",
       "      <td>0</td>\n",
       "      <td>0</td>\n",
       "      <td>0</td>\n",
       "      <td>0</td>\n",
       "      <td>0</td>\n",
       "    </tr>\n",
       "    <tr>\n",
       "      <th>28886</th>\n",
       "      <td>00007534_030.png</td>\n",
       "      <td>Infiltration</td>\n",
       "      <td>30</td>\n",
       "      <td>7534</td>\n",
       "      <td>54</td>\n",
       "      <td>M</td>\n",
       "      <td>AP</td>\n",
       "      <td>2500</td>\n",
       "      <td>2048</td>\n",
       "      <td>0.168</td>\n",
       "      <td>...</td>\n",
       "      <td>0</td>\n",
       "      <td>0</td>\n",
       "      <td>0</td>\n",
       "      <td>1</td>\n",
       "      <td>0</td>\n",
       "      <td>0</td>\n",
       "      <td>0</td>\n",
       "      <td>0</td>\n",
       "      <td>0</td>\n",
       "      <td>0</td>\n",
       "    </tr>\n",
       "    <tr>\n",
       "      <th>28855</th>\n",
       "      <td>00007533_000.png</td>\n",
       "      <td>No Finding</td>\n",
       "      <td>0</td>\n",
       "      <td>7533</td>\n",
       "      <td>86</td>\n",
       "      <td>F</td>\n",
       "      <td>AP</td>\n",
       "      <td>2500</td>\n",
       "      <td>2048</td>\n",
       "      <td>0.168</td>\n",
       "      <td>...</td>\n",
       "      <td>0</td>\n",
       "      <td>0</td>\n",
       "      <td>0</td>\n",
       "      <td>0</td>\n",
       "      <td>0</td>\n",
       "      <td>1</td>\n",
       "      <td>0</td>\n",
       "      <td>0</td>\n",
       "      <td>0</td>\n",
       "      <td>0</td>\n",
       "    </tr>\n",
       "    <tr>\n",
       "      <th>85930</th>\n",
       "      <td>00021201_040.png</td>\n",
       "      <td>Infiltration</td>\n",
       "      <td>40</td>\n",
       "      <td>21201</td>\n",
       "      <td>65</td>\n",
       "      <td>M</td>\n",
       "      <td>AP</td>\n",
       "      <td>3056</td>\n",
       "      <td>2544</td>\n",
       "      <td>0.139</td>\n",
       "      <td>...</td>\n",
       "      <td>0</td>\n",
       "      <td>0</td>\n",
       "      <td>0</td>\n",
       "      <td>1</td>\n",
       "      <td>0</td>\n",
       "      <td>0</td>\n",
       "      <td>0</td>\n",
       "      <td>0</td>\n",
       "      <td>0</td>\n",
       "      <td>0</td>\n",
       "    </tr>\n",
       "    <tr>\n",
       "      <th>91356</th>\n",
       "      <td>00022803_000.png</td>\n",
       "      <td>Hernia</td>\n",
       "      <td>0</td>\n",
       "      <td>22803</td>\n",
       "      <td>61</td>\n",
       "      <td>F</td>\n",
       "      <td>PA</td>\n",
       "      <td>2544</td>\n",
       "      <td>3056</td>\n",
       "      <td>0.139</td>\n",
       "      <td>...</td>\n",
       "      <td>0</td>\n",
       "      <td>0</td>\n",
       "      <td>1</td>\n",
       "      <td>0</td>\n",
       "      <td>0</td>\n",
       "      <td>0</td>\n",
       "      <td>0</td>\n",
       "      <td>0</td>\n",
       "      <td>0</td>\n",
       "      <td>0</td>\n",
       "    </tr>\n",
       "    <tr>\n",
       "      <th>90355</th>\n",
       "      <td>00022466_001.png</td>\n",
       "      <td>No Finding</td>\n",
       "      <td>1</td>\n",
       "      <td>22466</td>\n",
       "      <td>58</td>\n",
       "      <td>M</td>\n",
       "      <td>AP</td>\n",
       "      <td>3056</td>\n",
       "      <td>2544</td>\n",
       "      <td>0.139</td>\n",
       "      <td>...</td>\n",
       "      <td>0</td>\n",
       "      <td>0</td>\n",
       "      <td>0</td>\n",
       "      <td>0</td>\n",
       "      <td>0</td>\n",
       "      <td>1</td>\n",
       "      <td>0</td>\n",
       "      <td>0</td>\n",
       "      <td>0</td>\n",
       "      <td>0</td>\n",
       "    </tr>\n",
       "    <tr>\n",
       "      <th>72608</th>\n",
       "      <td>00017898_000.png</td>\n",
       "      <td>No Finding</td>\n",
       "      <td>0</td>\n",
       "      <td>17898</td>\n",
       "      <td>63</td>\n",
       "      <td>M</td>\n",
       "      <td>PA</td>\n",
       "      <td>2790</td>\n",
       "      <td>2991</td>\n",
       "      <td>0.143</td>\n",
       "      <td>...</td>\n",
       "      <td>0</td>\n",
       "      <td>0</td>\n",
       "      <td>0</td>\n",
       "      <td>0</td>\n",
       "      <td>0</td>\n",
       "      <td>1</td>\n",
       "      <td>0</td>\n",
       "      <td>0</td>\n",
       "      <td>0</td>\n",
       "      <td>0</td>\n",
       "    </tr>\n",
       "    <tr>\n",
       "      <th>101993</th>\n",
       "      <td>00027139_001.png</td>\n",
       "      <td>Pleural_Thickening</td>\n",
       "      <td>1</td>\n",
       "      <td>27139</td>\n",
       "      <td>23</td>\n",
       "      <td>M</td>\n",
       "      <td>PA</td>\n",
       "      <td>2500</td>\n",
       "      <td>2422</td>\n",
       "      <td>0.143</td>\n",
       "      <td>...</td>\n",
       "      <td>0</td>\n",
       "      <td>0</td>\n",
       "      <td>0</td>\n",
       "      <td>0</td>\n",
       "      <td>0</td>\n",
       "      <td>0</td>\n",
       "      <td>0</td>\n",
       "      <td>1</td>\n",
       "      <td>0</td>\n",
       "      <td>0</td>\n",
       "    </tr>\n",
       "    <tr>\n",
       "      <th>16053</th>\n",
       "      <td>00004278_002.png</td>\n",
       "      <td>No Finding</td>\n",
       "      <td>2</td>\n",
       "      <td>4278</td>\n",
       "      <td>14</td>\n",
       "      <td>M</td>\n",
       "      <td>PA</td>\n",
       "      <td>2048</td>\n",
       "      <td>2500</td>\n",
       "      <td>0.171</td>\n",
       "      <td>...</td>\n",
       "      <td>0</td>\n",
       "      <td>0</td>\n",
       "      <td>0</td>\n",
       "      <td>0</td>\n",
       "      <td>0</td>\n",
       "      <td>1</td>\n",
       "      <td>0</td>\n",
       "      <td>0</td>\n",
       "      <td>0</td>\n",
       "      <td>0</td>\n",
       "    </tr>\n",
       "  </tbody>\n",
       "</table>\n",
       "<p>25 rows × 26 columns</p>\n",
       "</div>"
      ],
      "text/plain": [
       "             Image Index                   Finding Labels  Follow-up #  \\\n",
       "7110    00001881_000.png                       No Finding            0   \n",
       "22608   00005986_015.png                     Pneumothorax           15   \n",
       "8567    00002268_000.png                       No Finding            0   \n",
       "51224   00012935_021.png  Consolidation|Infiltration|Mass           21   \n",
       "33007   00008646_000.png                       No Finding            0   \n",
       "46447   00011870_001.png                       No Finding            1   \n",
       "75509   00018530_001.png                       No Finding            1   \n",
       "23881   00006296_025.png                     Infiltration           25   \n",
       "100981  00026818_016.png                     Infiltration           16   \n",
       "61741   00015255_014.png                       No Finding           14   \n",
       "25626   00006738_003.png                       No Finding            3   \n",
       "69623   00017158_003.png                     Infiltration            3   \n",
       "95748   00025189_006.png                       No Finding            6   \n",
       "41951   00010805_036.png                         Effusion           36   \n",
       "100967  00026818_002.png                       No Finding            2   \n",
       "84621   00020827_004.png                       No Finding            4   \n",
       "55639   00013922_008.png       Consolidation|Infiltration            8   \n",
       "28886   00007534_030.png                     Infiltration           30   \n",
       "28855   00007533_000.png                       No Finding            0   \n",
       "85930   00021201_040.png                     Infiltration           40   \n",
       "91356   00022803_000.png                           Hernia            0   \n",
       "90355   00022466_001.png                       No Finding            1   \n",
       "72608   00017898_000.png                       No Finding            0   \n",
       "101993  00027139_001.png               Pleural_Thickening            1   \n",
       "16053   00004278_002.png                       No Finding            2   \n",
       "\n",
       "        Patient ID  Patient Age Patient Gender View Position  \\\n",
       "7110          1881           36              M            PA   \n",
       "22608         5986           33              M            PA   \n",
       "8567          2268           59              M            PA   \n",
       "51224        12935           55              M            AP   \n",
       "33007         8646           40              M            PA   \n",
       "46447        11870           46              F            AP   \n",
       "75509        18530           49              F            AP   \n",
       "23881         6296           15              F            AP   \n",
       "100981       26818           31              M            AP   \n",
       "61741        15255           46              M            PA   \n",
       "25626         6738           35              F            PA   \n",
       "69623        17158           62              M            AP   \n",
       "95748        25189           51              F            AP   \n",
       "41951        10805            8              F            AP   \n",
       "100967       26818           31              M            AP   \n",
       "84621        20827           53              M            PA   \n",
       "55639        13922           52              M            AP   \n",
       "28886         7534           54              M            AP   \n",
       "28855         7533           86              F            AP   \n",
       "85930        21201           65              M            AP   \n",
       "91356        22803           61              F            PA   \n",
       "90355        22466           58              M            AP   \n",
       "72608        17898           63              M            PA   \n",
       "101993       27139           23              M            PA   \n",
       "16053         4278           14              M            PA   \n",
       "\n",
       "        OriginalImage[Width  Height]  OriginalImagePixelSpacing[x  ...  \\\n",
       "7110                   2500     2048                        0.168  ...   \n",
       "22608                  2048     2500                        0.168  ...   \n",
       "8567                   2992     2991                        0.143  ...   \n",
       "51224                  2500     2048                        0.168  ...   \n",
       "33007                  2992     2991                        0.143  ...   \n",
       "46447                  2500     2048                        0.168  ...   \n",
       "75509                  3056     2544                        0.139  ...   \n",
       "23881                  2500     2048                        0.171  ...   \n",
       "100981                 3056     2544                        0.139  ...   \n",
       "61741                  2992     2991                        0.143  ...   \n",
       "25626                  2992     2991                        0.143  ...   \n",
       "69623                  3056     2544                        0.139  ...   \n",
       "95748                  3056     2544                        0.139  ...   \n",
       "41951                  2500     2048                        0.168  ...   \n",
       "100967                 3056     2544                        0.139  ...   \n",
       "84621                  2992     2991                        0.143  ...   \n",
       "55639                  3056     2544                        0.139  ...   \n",
       "28886                  2500     2048                        0.168  ...   \n",
       "28855                  2500     2048                        0.168  ...   \n",
       "85930                  3056     2544                        0.139  ...   \n",
       "91356                  2544     3056                        0.139  ...   \n",
       "90355                  3056     2544                        0.139  ...   \n",
       "72608                  2790     2991                        0.143  ...   \n",
       "101993                 2500     2422                        0.143  ...   \n",
       "16053                  2048     2500                        0.171  ...   \n",
       "\n",
       "        Emphysema  Fibrosis  Hernia  Infiltration  Mass  No Finding  Nodule  \\\n",
       "7110            0         0       0             0     0           1       0   \n",
       "22608           0         0       0             0     0           0       0   \n",
       "8567            0         0       0             0     0           1       0   \n",
       "51224           0         0       0             1     1           0       0   \n",
       "33007           0         0       0             0     0           1       0   \n",
       "46447           0         0       0             0     0           1       0   \n",
       "75509           0         0       0             0     0           1       0   \n",
       "23881           0         0       0             1     0           0       0   \n",
       "100981          0         0       0             1     0           0       0   \n",
       "61741           0         0       0             0     0           1       0   \n",
       "25626           0         0       0             0     0           1       0   \n",
       "69623           0         0       0             1     0           0       0   \n",
       "95748           0         0       0             0     0           1       0   \n",
       "41951           0         0       0             0     0           0       0   \n",
       "100967          0         0       0             0     0           1       0   \n",
       "84621           0         0       0             0     0           1       0   \n",
       "55639           0         0       0             1     0           0       0   \n",
       "28886           0         0       0             1     0           0       0   \n",
       "28855           0         0       0             0     0           1       0   \n",
       "85930           0         0       0             1     0           0       0   \n",
       "91356           0         0       1             0     0           0       0   \n",
       "90355           0         0       0             0     0           1       0   \n",
       "72608           0         0       0             0     0           1       0   \n",
       "101993          0         0       0             0     0           0       0   \n",
       "16053           0         0       0             0     0           1       0   \n",
       "\n",
       "        Pleural_Thickening  Pneumonia  Pneumothorax  \n",
       "7110                     0          0             0  \n",
       "22608                    0          0             1  \n",
       "8567                     0          0             0  \n",
       "51224                    0          0             0  \n",
       "33007                    0          0             0  \n",
       "46447                    0          0             0  \n",
       "75509                    0          0             0  \n",
       "23881                    0          0             0  \n",
       "100981                   0          0             0  \n",
       "61741                    0          0             0  \n",
       "25626                    0          0             0  \n",
       "69623                    0          0             0  \n",
       "95748                    0          0             0  \n",
       "41951                    0          0             0  \n",
       "100967                   0          0             0  \n",
       "84621                    0          0             0  \n",
       "55639                    0          0             0  \n",
       "28886                    0          0             0  \n",
       "28855                    0          0             0  \n",
       "85930                    0          0             0  \n",
       "91356                    0          0             0  \n",
       "90355                    0          0             0  \n",
       "72608                    0          0             0  \n",
       "101993                   1          0             0  \n",
       "16053                    0          0             0  \n",
       "\n",
       "[25 rows x 26 columns]"
      ]
     },
     "execution_count": 48,
     "metadata": {},
     "output_type": "execute_result"
    }
   ],
   "source": [
    "#data_entry_df['Finding Labels'] = data_entry_df['Finding Labels'].map(lambda x: x.replace('No Finding', ''))\n",
    "all_labels = np.unique(list(chain(*data_entry_df['Finding Labels'].map(lambda x: x.split('|')).tolist())))\n",
    "all_labels = [x for x in all_labels if len(x)>0]\n",
    "len(all_labels)\n",
    "for current_label in all_labels:\n",
    "    #if we find a non-empty label, map it to a separate column with a value '1' and leave '0' for the ones not found\n",
    "    #so in the end we have an encoded array\n",
    "    if(len(current_label)>1):\n",
    "        data_entry_df[current_label] = data_entry_df['Finding Labels'].map(lambda found: 1 if current_label in found else 0)\n",
    "data_entry_df.sample(25)"
   ]
  },
  {
   "cell_type": "code",
   "execution_count": null,
   "metadata": {},
   "outputs": [],
   "source": []
  },
  {
   "cell_type": "code",
   "execution_count": 49,
   "metadata": {
    "ExecuteTime": {
     "end_time": "2020-04-21T03:33:10.946477Z",
     "start_time": "2020-04-21T03:33:10.897412Z"
    }
   },
   "outputs": [
    {
     "data": {
      "text/html": [
       "<div>\n",
       "<style scoped>\n",
       "    .dataframe tbody tr th:only-of-type {\n",
       "        vertical-align: middle;\n",
       "    }\n",
       "\n",
       "    .dataframe tbody tr th {\n",
       "        vertical-align: top;\n",
       "    }\n",
       "\n",
       "    .dataframe thead th {\n",
       "        text-align: right;\n",
       "    }\n",
       "</style>\n",
       "<table border=\"1\" class=\"dataframe\">\n",
       "  <thead>\n",
       "    <tr style=\"text-align: right;\">\n",
       "      <th></th>\n",
       "      <th>Image Index</th>\n",
       "      <th>Effusion</th>\n",
       "      <th>Atelectasis</th>\n",
       "      <th>Cardiomegaly</th>\n",
       "      <th>Consolidation</th>\n",
       "      <th>Edema</th>\n",
       "      <th>Emphysema</th>\n",
       "      <th>Fibrosis</th>\n",
       "      <th>Hernia</th>\n",
       "      <th>Infiltration</th>\n",
       "      <th>Mass</th>\n",
       "      <th>Nodule</th>\n",
       "      <th>No Finding</th>\n",
       "      <th>Pleural_Thickening</th>\n",
       "      <th>Pneumonia</th>\n",
       "      <th>Pneumothorax</th>\n",
       "    </tr>\n",
       "  </thead>\n",
       "  <tbody>\n",
       "    <tr>\n",
       "      <th>0</th>\n",
       "      <td>00000001_000.png</td>\n",
       "      <td>0</td>\n",
       "      <td>0</td>\n",
       "      <td>1</td>\n",
       "      <td>0</td>\n",
       "      <td>0</td>\n",
       "      <td>0</td>\n",
       "      <td>0</td>\n",
       "      <td>0</td>\n",
       "      <td>0</td>\n",
       "      <td>0</td>\n",
       "      <td>0</td>\n",
       "      <td>0</td>\n",
       "      <td>0</td>\n",
       "      <td>0</td>\n",
       "      <td>0</td>\n",
       "    </tr>\n",
       "    <tr>\n",
       "      <th>1</th>\n",
       "      <td>00000001_001.png</td>\n",
       "      <td>0</td>\n",
       "      <td>0</td>\n",
       "      <td>1</td>\n",
       "      <td>0</td>\n",
       "      <td>0</td>\n",
       "      <td>1</td>\n",
       "      <td>0</td>\n",
       "      <td>0</td>\n",
       "      <td>0</td>\n",
       "      <td>0</td>\n",
       "      <td>0</td>\n",
       "      <td>0</td>\n",
       "      <td>0</td>\n",
       "      <td>0</td>\n",
       "      <td>0</td>\n",
       "    </tr>\n",
       "    <tr>\n",
       "      <th>2</th>\n",
       "      <td>00000001_002.png</td>\n",
       "      <td>1</td>\n",
       "      <td>0</td>\n",
       "      <td>1</td>\n",
       "      <td>0</td>\n",
       "      <td>0</td>\n",
       "      <td>0</td>\n",
       "      <td>0</td>\n",
       "      <td>0</td>\n",
       "      <td>0</td>\n",
       "      <td>0</td>\n",
       "      <td>0</td>\n",
       "      <td>0</td>\n",
       "      <td>0</td>\n",
       "      <td>0</td>\n",
       "      <td>0</td>\n",
       "    </tr>\n",
       "    <tr>\n",
       "      <th>3</th>\n",
       "      <td>00000002_000.png</td>\n",
       "      <td>0</td>\n",
       "      <td>0</td>\n",
       "      <td>0</td>\n",
       "      <td>0</td>\n",
       "      <td>0</td>\n",
       "      <td>0</td>\n",
       "      <td>0</td>\n",
       "      <td>0</td>\n",
       "      <td>0</td>\n",
       "      <td>0</td>\n",
       "      <td>0</td>\n",
       "      <td>1</td>\n",
       "      <td>0</td>\n",
       "      <td>0</td>\n",
       "      <td>0</td>\n",
       "    </tr>\n",
       "    <tr>\n",
       "      <th>4</th>\n",
       "      <td>00000003_000.png</td>\n",
       "      <td>0</td>\n",
       "      <td>0</td>\n",
       "      <td>0</td>\n",
       "      <td>0</td>\n",
       "      <td>0</td>\n",
       "      <td>0</td>\n",
       "      <td>0</td>\n",
       "      <td>1</td>\n",
       "      <td>0</td>\n",
       "      <td>0</td>\n",
       "      <td>0</td>\n",
       "      <td>0</td>\n",
       "      <td>0</td>\n",
       "      <td>0</td>\n",
       "      <td>0</td>\n",
       "    </tr>\n",
       "    <tr>\n",
       "      <th>...</th>\n",
       "      <td>...</td>\n",
       "      <td>...</td>\n",
       "      <td>...</td>\n",
       "      <td>...</td>\n",
       "      <td>...</td>\n",
       "      <td>...</td>\n",
       "      <td>...</td>\n",
       "      <td>...</td>\n",
       "      <td>...</td>\n",
       "      <td>...</td>\n",
       "      <td>...</td>\n",
       "      <td>...</td>\n",
       "      <td>...</td>\n",
       "      <td>...</td>\n",
       "      <td>...</td>\n",
       "      <td>...</td>\n",
       "    </tr>\n",
       "    <tr>\n",
       "      <th>112115</th>\n",
       "      <td>00030801_001.png</td>\n",
       "      <td>0</td>\n",
       "      <td>0</td>\n",
       "      <td>0</td>\n",
       "      <td>0</td>\n",
       "      <td>0</td>\n",
       "      <td>0</td>\n",
       "      <td>0</td>\n",
       "      <td>0</td>\n",
       "      <td>0</td>\n",
       "      <td>1</td>\n",
       "      <td>0</td>\n",
       "      <td>0</td>\n",
       "      <td>0</td>\n",
       "      <td>1</td>\n",
       "      <td>0</td>\n",
       "    </tr>\n",
       "    <tr>\n",
       "      <th>112116</th>\n",
       "      <td>00030802_000.png</td>\n",
       "      <td>0</td>\n",
       "      <td>0</td>\n",
       "      <td>0</td>\n",
       "      <td>0</td>\n",
       "      <td>0</td>\n",
       "      <td>0</td>\n",
       "      <td>0</td>\n",
       "      <td>0</td>\n",
       "      <td>0</td>\n",
       "      <td>0</td>\n",
       "      <td>0</td>\n",
       "      <td>1</td>\n",
       "      <td>0</td>\n",
       "      <td>0</td>\n",
       "      <td>0</td>\n",
       "    </tr>\n",
       "    <tr>\n",
       "      <th>112117</th>\n",
       "      <td>00030803_000.png</td>\n",
       "      <td>0</td>\n",
       "      <td>0</td>\n",
       "      <td>0</td>\n",
       "      <td>0</td>\n",
       "      <td>0</td>\n",
       "      <td>0</td>\n",
       "      <td>0</td>\n",
       "      <td>0</td>\n",
       "      <td>0</td>\n",
       "      <td>0</td>\n",
       "      <td>0</td>\n",
       "      <td>1</td>\n",
       "      <td>0</td>\n",
       "      <td>0</td>\n",
       "      <td>0</td>\n",
       "    </tr>\n",
       "    <tr>\n",
       "      <th>112118</th>\n",
       "      <td>00030804_000.png</td>\n",
       "      <td>0</td>\n",
       "      <td>0</td>\n",
       "      <td>0</td>\n",
       "      <td>0</td>\n",
       "      <td>0</td>\n",
       "      <td>0</td>\n",
       "      <td>0</td>\n",
       "      <td>0</td>\n",
       "      <td>0</td>\n",
       "      <td>0</td>\n",
       "      <td>0</td>\n",
       "      <td>1</td>\n",
       "      <td>0</td>\n",
       "      <td>0</td>\n",
       "      <td>0</td>\n",
       "    </tr>\n",
       "    <tr>\n",
       "      <th>112119</th>\n",
       "      <td>00030805_000.png</td>\n",
       "      <td>0</td>\n",
       "      <td>0</td>\n",
       "      <td>0</td>\n",
       "      <td>0</td>\n",
       "      <td>0</td>\n",
       "      <td>0</td>\n",
       "      <td>0</td>\n",
       "      <td>0</td>\n",
       "      <td>0</td>\n",
       "      <td>0</td>\n",
       "      <td>0</td>\n",
       "      <td>1</td>\n",
       "      <td>0</td>\n",
       "      <td>0</td>\n",
       "      <td>0</td>\n",
       "    </tr>\n",
       "  </tbody>\n",
       "</table>\n",
       "<p>112120 rows × 16 columns</p>\n",
       "</div>"
      ],
      "text/plain": [
       "             Image Index  Effusion  Atelectasis  Cardiomegaly  Consolidation  \\\n",
       "0       00000001_000.png         0            0             1              0   \n",
       "1       00000001_001.png         0            0             1              0   \n",
       "2       00000001_002.png         1            0             1              0   \n",
       "3       00000002_000.png         0            0             0              0   \n",
       "4       00000003_000.png         0            0             0              0   \n",
       "...                  ...       ...          ...           ...            ...   \n",
       "112115  00030801_001.png         0            0             0              0   \n",
       "112116  00030802_000.png         0            0             0              0   \n",
       "112117  00030803_000.png         0            0             0              0   \n",
       "112118  00030804_000.png         0            0             0              0   \n",
       "112119  00030805_000.png         0            0             0              0   \n",
       "\n",
       "        Edema  Emphysema  Fibrosis  Hernia  Infiltration  Mass  Nodule  \\\n",
       "0           0          0         0       0             0     0       0   \n",
       "1           0          1         0       0             0     0       0   \n",
       "2           0          0         0       0             0     0       0   \n",
       "3           0          0         0       0             0     0       0   \n",
       "4           0          0         0       1             0     0       0   \n",
       "...       ...        ...       ...     ...           ...   ...     ...   \n",
       "112115      0          0         0       0             0     1       0   \n",
       "112116      0          0         0       0             0     0       0   \n",
       "112117      0          0         0       0             0     0       0   \n",
       "112118      0          0         0       0             0     0       0   \n",
       "112119      0          0         0       0             0     0       0   \n",
       "\n",
       "        No Finding  Pleural_Thickening  Pneumonia  Pneumothorax  \n",
       "0                0                   0          0             0  \n",
       "1                0                   0          0             0  \n",
       "2                0                   0          0             0  \n",
       "3                1                   0          0             0  \n",
       "4                0                   0          0             0  \n",
       "...            ...                 ...        ...           ...  \n",
       "112115           0                   0          1             0  \n",
       "112116           1                   0          0             0  \n",
       "112117           1                   0          0             0  \n",
       "112118           1                   0          0             0  \n",
       "112119           1                   0          0             0  \n",
       "\n",
       "[112120 rows x 16 columns]"
      ]
     },
     "execution_count": 49,
     "metadata": {},
     "output_type": "execute_result"
    }
   ],
   "source": [
    "diseases_df = data_entry_df[['Image Index','Effusion','Atelectasis','Cardiomegaly','Consolidation','Edema', \n",
    "                         'Emphysema', 'Fibrosis', 'Hernia', 'Infiltration','Mass', 'Nodule', 'No Finding',\n",
    "                          'Pleural_Thickening', 'Pneumonia','Pneumothorax'\n",
    "                         ]]\n",
    "diseases_df"
   ]
  },
  {
   "cell_type": "code",
   "execution_count": 265,
   "metadata": {
    "ExecuteTime": {
     "end_time": "2020-04-22T21:48:56.002598Z",
     "start_time": "2020-04-22T21:48:55.982973Z"
    }
   },
   "outputs": [
    {
     "data": {
      "text/plain": [
       "0      [0.0, 1.0, 0.0, 0.0, 0.0, 0.0, 0.0, 0.0, 0.0, ...\n",
       "1      [0.0, 1.0, 0.0, 0.0, 0.0, 1.0, 0.0, 0.0, 0.0, ...\n",
       "2      [0.0, 1.0, 0.0, 0.0, 1.0, 0.0, 0.0, 0.0, 0.0, ...\n",
       "3      [0.0, 0.0, 0.0, 0.0, 0.0, 0.0, 0.0, 0.0, 0.0, ...\n",
       "4      [0.0, 0.0, 0.0, 0.0, 0.0, 0.0, 0.0, 1.0, 0.0, ...\n",
       "                             ...                        \n",
       "995    [0.0, 0.0, 0.0, 0.0, 1.0, 0.0, 0.0, 0.0, 1.0, ...\n",
       "996    [0.0, 0.0, 1.0, 0.0, 0.0, 0.0, 0.0, 0.0, 0.0, ...\n",
       "997    [0.0, 0.0, 1.0, 0.0, 0.0, 0.0, 0.0, 0.0, 0.0, ...\n",
       "998    [0.0, 0.0, 1.0, 0.0, 0.0, 0.0, 0.0, 0.0, 0.0, ...\n",
       "999    [0.0, 0.0, 0.0, 0.0, 0.0, 0.0, 0.0, 0.0, 1.0, ...\n",
       "Name: 14, Length: 1000, dtype: object"
      ]
     },
     "execution_count": 265,
     "metadata": {},
     "output_type": "execute_result"
    }
   ],
   "source": [
    "patient_train = diseases_df.iloc[:1000,1:].values.tolist()\n",
    "patient_train\n",
    "\n",
    "df_Y = pd.DataFrame(patient_train)[14]\n",
    "df_Y df.columns = ['a', 'b']"
   ]
  },
  {
   "cell_type": "code",
   "execution_count": 264,
   "metadata": {
    "ExecuteTime": {
     "end_time": "2020-04-22T21:46:46.143101Z",
     "start_time": "2020-04-22T21:46:46.138193Z"
    }
   },
   "outputs": [],
   "source": [
    "df_Y[\"Target\"] = df_Y[14]"
   ]
  },
  {
   "cell_type": "code",
   "execution_count": 65,
   "metadata": {},
   "outputs": [],
   "source": [
    "from sklearn.neighbors import KNeighborsClassifier"
   ]
  },
  {
   "cell_type": "code",
   "execution_count": 66,
   "metadata": {},
   "outputs": [],
   "source": [
    "import numpy as np\n",
    "import matplotlib.pyplot as plt\n",
    "from scipy import misc\n",
    "from PIL import Image"
   ]
  },
  {
   "cell_type": "code",
   "execution_count": null,
   "metadata": {},
   "outputs": [],
   "source": [
    "\n"
   ]
  },
  {
   "cell_type": "code",
   "execution_count": null,
   "metadata": {},
   "outputs": [],
   "source": []
  },
  {
   "cell_type": "code",
   "execution_count": null,
   "metadata": {},
   "outputs": [],
   "source": []
  },
  {
   "cell_type": "code",
   "execution_count": null,
   "metadata": {},
   "outputs": [],
   "source": []
  },
  {
   "cell_type": "code",
   "execution_count": 139,
   "metadata": {
    "ExecuteTime": {
     "end_time": "2020-04-21T04:30:07.915064Z",
     "start_time": "2020-04-21T04:30:07.712014Z"
    }
   },
   "outputs": [
    {
     "data": {
      "image/png": "[encoded data removed]",
      "text/plain": [
       "<Figure size 432x288 with 1 Axes>"
      ]
     },
     "metadata": {
      "needs_background": "light"
     },
     "output_type": "display_data"
    }
   ],
   "source": [
    "disease_counts = []\n",
    "\n",
    "for l in all_labels:\n",
    "    tempcount = (diseases_df[l] != 0).sum()\n",
    "    disease_counts.append(tempcount)\n",
    "    \n",
    "diseases_counts_combined_df = []\n",
    "for l,c in zip(all_labels,disease_counts):\n",
    "    temp =(l,c)\n",
    "    diseases_counts_combined_df.append(temp)\n",
    "diseases_counts_combined_df\n",
    "\n",
    "y_pos = np.arange(len(all_labels))\n",
    " \n",
    "# Create bars\n",
    "plt.bar(y_pos, disease_counts)\n",
    " \n",
    "# Create names on the x-axis\n",
    "plt.xticks(y_pos, all_labels, rotation = 90)\n",
    " \n",
    "# Show graphic\n",
    "plt.show()\n"
   ]
  },
  {
   "cell_type": "code",
   "execution_count": 46,
   "metadata": {
    "ExecuteTime": {
     "end_time": "2020-04-20T23:56:31.391568Z",
     "start_time": "2020-04-20T23:56:31.202063Z"
    }
   },
   "outputs": [],
   "source": [
    "given_labels = np.array(['Atelectasis', 'Cardiomegaly', 'Consolidation','Edema', \n",
    "                         'Effusion', 'Emphysema', 'Fibrosis', 'Hernia', 'Infiltration',\n",
    "                         'Mass', 'No Finding', 'Nodule', 'Pleural_Thickening', 'Pneumonia', \n",
    "                         'Pneumothorax'])\n",
    "\n",
    "d1 = dict((given_labels[i], i) for i in range(len(given_labels)))\n",
    "#d1\n",
    "d2 = dict(zip(data_entry_df['Image Index'], data_entry_df['Finding Labels']))\n",
    "#d2\n",
    "diseases = {k: v.split(\"|\") for k, v in d2.items()}\n",
    "#len(diseases.keys())\n",
    "\n",
    "\n"
   ]
  },
  {
   "cell_type": "code",
   "execution_count": 82,
   "metadata": {},
   "outputs": [],
   "source": [
    "#diseases"
   ]
  },
  {
   "cell_type": "code",
   "execution_count": 43,
   "metadata": {
    "ExecuteTime": {
     "end_time": "2020-04-21T00:02:12.837803Z",
     "start_time": "2020-04-21T00:02:12.696429Z"
    }
   },
   "outputs": [],
   "source": [
    "#diseases_df = pd.DataFrame.from_dict(diseases, orient='index')\n",
    "#diseases_df"
   ]
  },
  {
   "cell_type": "code",
   "execution_count": null,
   "metadata": {},
   "outputs": [],
   "source": []
  }
 ],
 "metadata": {
  "kernelspec": {
   "display_name": "Python 3",
   "language": "python",
   "name": "python3"
  },
  "language_info": {
   "codemirror_mode": {
    "name": "ipython",
    "version": 3
   },
   "file_extension": ".py",
   "mimetype": "text/x-python",
   "name": "python",
   "nbconvert_exporter": "python",
   "pygments_lexer": "ipython3",
   "version": "3.7.6"
  }
 },
 "nbformat": 4,
 "nbformat_minor": 4
}
